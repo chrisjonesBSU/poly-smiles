{
 "cells": [
  {
   "cell_type": "code",
   "execution_count": 1,
   "metadata": {},
   "outputs": [
    {
     "name": "stderr",
     "output_type": "stream",
     "text": [
      "/home/chris/miniconda3/envs/mosdev/lib/python3.7/site-packages/hoomd/meta.py:26: DeprecationWarning: Using or importing the ABCs from 'collections' instead of from 'collections.abc' is deprecated since Python 3.3,and in 3.9 it will stop working\n",
      "  from collections import Mapping\n"
     ]
    },
    {
     "data": {
      "application/vnd.jupyter.widget-view+json": {
       "model_id": "8ea070ae890a4ba694bd48b460fbae9f",
       "version_major": 2,
       "version_minor": 0
      },
      "text/plain": [
       "_ColormakerRegistry()"
      ]
     },
     "metadata": {},
     "output_type": "display_data"
    }
   ],
   "source": [
    "import deepsmiles\n",
    "import itertools as it\n",
    "import json\n",
    "import mbuild as mb\n",
    "#import matplotlib.pyplot as plt\n",
    "#from mpl_toolkits.mplot3d import Axes3D\n",
    "#import pymatgen as mg\n",
    "#from pymatgen import symmetry"
   ]
  },
  {
   "cell_type": "code",
   "execution_count": 2,
   "metadata": {},
   "outputs": [
    {
     "data": {
      "text/plain": [
       "'\\nTHOUGHTS:\\n\\n1. Build a dictionary for each compound\\n        - Name\\n        - Subclass (backbone, branch, constituent)\\n        - SMILES string\\n        - DeepSMILES string\\n        - Polyermization indices (DeepSMILES string index numbers)\\n        - Bonding indices\\n        - Chemical name\\n        - Mass (Later)\\n        - Symmetry (Later)\\n        - Chirality (Later)\\n        - ?\\n\\n\\nDictionary: One created for each compound\\n\\n'"
      ]
     },
     "execution_count": 2,
     "metadata": {},
     "output_type": "execute_result"
    }
   ],
   "source": [
    "'''\n",
    "THOUGHTS:\n",
    "\n",
    "1. Build a dictionary for each compound\n",
    "        - Name\n",
    "        - Subclass (backbone, branch, constituent)\n",
    "        - SMILES string\n",
    "        - DeepSMILES string\n",
    "        - Polyermization indices (DeepSMILES string index numbers)\n",
    "        - Bonding indices\n",
    "        - Chemical name\n",
    "        - Mass (Later)\n",
    "        - Symmetry (Later)\n",
    "        - Chirality (Later)\n",
    "        - ?\n",
    "\n",
    "\n",
    "Dictionary: One created for each compound\n",
    "\n",
    "'''"
   ]
  },
  {
   "cell_type": "code",
   "execution_count": 2,
   "metadata": {},
   "outputs": [],
   "source": [
    "def convert_smiles(smiles=False, deep=False):   \n",
    "    '''\n",
    "    smiles and deep must be str format\n",
    "    Converts from SMILES to DeepSMILES and vice versa.\n",
    "    Whichever has a string provided, will convert to the other.\n",
    "    If strings are proivded for both, then nothing happens\n",
    "    '''\n",
    "    converter = deepsmiles.Converter(rings=True, branches=True)\n",
    "    if smiles and deep:\n",
    "        print('Only provide a string for one of smiles or deep')\n",
    "        return()\n",
    "    if smiles: # Convert from SMILES to DeepSMILES\n",
    "        deep_string = converter.encode(smiles)\n",
    "        return deep_string\n",
    "    if deep: # Convert from DeepSMILES to SMILES\n",
    "        smiles_string = converter.decode(deep)\n",
    "        return smiles_string \n",
    "\n",
    "'c1sccc1CCCCCC'\n",
    "'0-1234-5678910'\n",
    "\n",
    "def poly_smiles_idx(monomer_string, polyindex, length=2, ftype='mol2', string_only=True,\n",
    "                    energy_min=False, save=False, visualize=False):\n",
    "    \n",
    "    monomer_string_d = convert_smiles(smiles=monomer_string)\n",
    "    \n",
    "    \n",
    "def poly_smiles(monomer_string, length=2, ftype = 'mol2', string_only=True,\n",
    "                energy_min=False, save=False, visualize=False):\n",
    "    \n",
    "    # Find how many branch-brackets are required at polymerization site\n",
    "    atom_count = 0\n",
    "    bracket_count = 0\n",
    "    for s in monomer_string:\n",
    "        if s.isalpha():\n",
    "            atom_count += 1    \n",
    "        if s == ')':\n",
    "            bracket_count += 1 \n",
    "    if bracket_count == 0:\n",
    "        brackets = ')' * atom_count\n",
    "    elif bracket_count != 0:\n",
    "        brackets = ')' * (atom_count - bracket_count)\n",
    "       \n",
    "    # Find index num of poly site on modified DEEP SMILES string\n",
    "    monomer_list = list(monomer_string)\n",
    "    if '*' not in monomer_list:\n",
    "        return(print('ERROR: Identify the wanted polymerization site using *x*'))\n",
    "    key_indices = [index for index, value in enumerate(monomer_list) if value == '*']  \n",
    "    if len(key_indices) != 2:   # Checks for only a single given poly site\n",
    "        return(print('ERROR: Select only one polymerization site using *x*'))\n",
    "    if key_indices[1] - key_indices[0] != 2:   # Check that the * are surrounding only a single atom\n",
    "        return(print('ERROR: Select only one polymerization site using *x*'))\n",
    "    monomer_list[key_indices[1]] = '{}' + '{}'.format(brackets) # Create poly site+brackets to the right of the atom\n",
    "    monomer_list.remove('*')\n",
    "    template = ''.join(monomer_list)  # Monomer string with the needed {} and without second * in the string\n",
    "    monomer_list.remove('{}' + '{}'.format(brackets))\n",
    "    monomer = ''.join(monomer_list)  # Pure deepsmiles monomer string without {} or *\n",
    "    # What is the difference between monomer and monomer_string without **??\n",
    "    print(monomer)   \n",
    "    # Loop & format polymer\n",
    "    polymer = '{}'\n",
    "    for i in range(0, length):\n",
    "        if i == length - 1:\n",
    "            polymer = polymer.format(monomer)\n",
    "            break\n",
    "        polymer = polymer.format(template)\n",
    "\n",
    "    polymer_smiles = convert_smiles(deep = polymer)\n",
    "    if string_only:\n",
    "        return(polymer_smiles)\n",
    "    compound = mb.load(polymer_smiles, smiles = True)\n",
    "    if energy_min:\n",
    "        compound.energy_minimize(steps = 25, forcefield='GAFF', algorithm = 'md')\n",
    "    if visualize:\n",
    "        compound.visualize().show()  \n",
    "    if save:\n",
    "        file_name = \"comp_{}mer.{}\".format(length, ftype)\n",
    "        compound.save(file_name, overwrite = True)\n",
    "    return compound, polymer_smiles\n",
    "\n",
    "def viz(smiles_string=None, deep=False, energy_min = False, json_file=False):\n",
    "    \n",
    "    if json_file:\n",
    "        with open('typed-components/{}'.format(json_file)) as jf:\n",
    "            d = json.load(jf)\n",
    "            smiles_string = d['smiles']\n",
    "    else:\n",
    "        if deep:\n",
    "            smiles_string = convert_smiles(deep = smiles_string)    \n",
    "    comp = mb.load(smiles_string, smiles = True)\n",
    "    if energy_min:\n",
    "        comp.energy_minimize(algorithm='md', steps=100)\n",
    "    comp.visualize().show()\n",
    "\n",
    "def find_bond_site(smiles_string, deep = True):\n",
    "    '''    \n",
    "    '''\n",
    "    bonding_dicts = []  # List of dictionaries of each bonding site\n",
    "    smiles_string_list = list(smiles_string)\n",
    "    template_list = list(smiles_string)\n",
    "    for index, char in enumerate(smiles_string_list):\n",
    "        d = {}\n",
    "        if char.lower() == 'c':  # The index belongs to a carbon site 'c'\n",
    "            next_ind = index + 1\n",
    "            try:\n",
    "                if smiles_string_list[index + 1].isalpha():  # The following character in the string is an atom\n",
    "                    index_to_change = index  # Change the original site\n",
    "                    original_value = char\n",
    "                    smiles_string_list[index_to_change] = original_value + 'N)'\n",
    "                else:  # The following character is the SMILES string is a symbol or number\n",
    "                    try:\n",
    "                        while not smiles_string_list[next_ind].isalpha(): # Find the next alpha containing index\n",
    "                            next_ind += 1\n",
    "                        index_to_change = next_ind - 1\n",
    "                    except:\n",
    "                        index_to_change = -1  # The SMILES string ends with with a non-alpha value\n",
    "            \n",
    "                    original_value = smiles_string_list[index_to_change]  # Add the branch to the last non-alpha\n",
    "                    smiles_string_list[index_to_change] = original_value + 'N)'\n",
    "    \n",
    "            except:\n",
    "                index_to_change = index # The SMILES string ends with a 'c'\n",
    "                original_value = char\n",
    "                smiles_string_list[index_to_change] = original_value + 'N)'\n",
    "                \n",
    "            temp_string = ''.join(smiles_string_list)\n",
    "            viz(temp_string)\n",
    "            print('Add as possible bonding site? (y/n) or (exit)')  # QUESTION No. 1\n",
    "            add = input()\n",
    "            if add.lower() == 'yes' or add.lower() == 'y':\n",
    "                template_list[index_to_change] = original_value + '{}'\n",
    "                print('Classify bonding site as (1) branch, (2) polymerization, or (3) both') # QUESTION No. 2\n",
    "                site_type = input()\n",
    "                if site_type == '1':\n",
    "                    bond_site_type = 'branch'\n",
    "                elif site_type == '2':\n",
    "                    bond_site_type = 'poly'\n",
    "                    num_of_bonds = 1\n",
    "                elif site_type == '3':\n",
    "                    bond_site_type = 'both'\n",
    "                if bond_site_type == 'branch' or bond_site_type == 'both':\n",
    "                    print('How many bonds can be formed from this atom? (1, 2, 3, 4..etc)') # QUESTION No. 3\n",
    "                    num_of_bonds = int(input())\n",
    "                d['index'] = index_to_change\n",
    "                d['type'] = bond_site_type\n",
    "                d['num_bonds'] = num_of_bonds\n",
    "                bonding_dicts.append(d)\n",
    "            if add.lower() == 'exit':\n",
    "                break\n",
    "            smiles_string_list[index_to_change] = original_value\n",
    "        else:\n",
    "            pass\n",
    "    template_molecule_string = ''.join(template_list)\n",
    "    \n",
    "    return bonding_dicts, template_molecule_string\n",
    "       \n",
    "    \n",
    "def find_symmetry(string, deep = True):\n",
    "    '''\n",
    "    Given a chemical structure, find and classify it's symmetry.\n",
    "    Groups, axes of symmetry, planes of symmetry, chirality, etc...\n",
    "    '''\n",
    "    if deep:\n",
    "        smiles_string = convert_smiles(string)\n",
    "    else:\n",
    "        smiles_string = string\n",
    "    compound = mb.load(smiles_string, smiles = True)  # mbuild compound\n",
    "    \n",
    "    \n",
    "def add_component(name, structure_type, string, full_name = 'Not Provided', deep_smiles = False):\n",
    "    '''\n",
    "    Create a dictionary for a single compound/component using a given SMILES string representation.\n",
    "    Compound can be created starting with either standard SMILES or DeepSMILES formatting \n",
    "    Ultimately, the dictionary will contain both types of SMILES strings. \n",
    "    If the structure_type (subclass) is backbone, then the user will go through process of\n",
    "    adding and typing bonding sites. Dictionary stores the bonding information.\n",
    "    \n",
    "    name : str, required\n",
    "        Generic, identifiable name (Ex. \"ITIC\", \"PTB7\", \"Benzene\")\n",
    "    string : str, required\n",
    "        A SMILES string in either standard SMILES or DeepSMILES\n",
    "    structure_type : str, required\n",
    "        Options are backbone, branch, constituent. \n",
    "    full_name : str, optional, default = \"Not Provided\"\n",
    "        Stores the full/official name of the structure\n",
    "    deep_smiles : bool, required, default = False\n",
    "        If string parameter is in the DeepSMILES format, then deep_smiles should be True\n",
    "        If string parameter is in the standard SMILES format, then deep_smiles should be False\n",
    "    \n",
    "    TODO:\n",
    "    Add try/except for building compound given the string/deep_smiles combo\n",
    "    Add write dictionary to JSON file - Ask Mike about the Sig'c1ccc(cc1)S(=O)(=O)c%20cc(c2ccc(cc2)S(=O)(=O)c%19cc(c3ccc(cc3)S(=O)(=O)c%18cc(c4ccc(cc4)S(=O)(=O)c%17cc(c5ccc(cc5)S(=O)(=O)c%16cc(c6ccc(cc6)S(=O)(=O)c%15cc(c7ccc(cc7)S(=O)(=O)c%14cc(c8ccc(cc8)S(=O)(=O)c%13cc(c9ccc(cc9)S(=O)(=O)c%12cc(c%10ccc(cc%10)S(=O)(=O)c%11ccccc%11)ccc%12)ccc%13)ccc%14)ccc%15)ccc%16)ccc%17)ccc%18)ccc%19)ccc%20'nac .json file formats. Dictionary of dictionaries?\n",
    "    \n",
    "    ''' \n",
    "    d = {}\n",
    "    if deep_smiles:  # string parameter is in DeepSMILES format\n",
    "        smiles_string = convert_smiles(deep = string) \n",
    "        deep_smiles_string = string\n",
    "    else:  #  string parameter is in standard SMILES format\n",
    "        smiles_string = string\n",
    "        deep_smiles_string = convert_smiles(smiles = string)\n",
    "    if structure_type == 'backbone':\n",
    "        bond_dict, template = find_bond_site(deep_smiles_string)\n",
    "        d['template'] = template\n",
    "    else:\n",
    "        bond_dict = {}      \n",
    "    \n",
    "    d['name'] = name\n",
    "    d['subclass'] = structure_type\n",
    "    d['smiles'] = smiles_string\n",
    "    d['deep_smiles'] = deep_smiles_string\n",
    "    d['bonding'] = bond_dict\n",
    "    d['full name'] = full_name\n",
    "    #d['chiral']  Add later\n",
    "    #d['symmetry']  Add later\n",
    "    file_name = 'typed-components/{}.json'.format(name)\n",
    "    with open(file_name, 'w') as fp:\n",
    "        json.dump(d, fp)\n",
    "    return d\n",
    "\n",
    "def read_comp(fpath):\n",
    "    \n",
    "    with open(fpath) as jf:\n",
    "        d = json.load(jf)\n",
    "        for key in d:\n",
    "            print('{}: {}'.format(key, d[key]))\n",
    "    "
   ]
  },
  {
   "cell_type": "code",
   "execution_count": 21,
   "metadata": {
    "scrolled": false
   },
   "outputs": [
    {
     "name": "stderr",
     "output_type": "stream",
     "text": [
      "/home/chris/miniconda3/envs/mosdef-smiles/lib/python3.7/site-packages/openbabel/__init__.py:14: UserWarning: \"import openbabel\" is deprecated, instead use \"from openbabel import openbabel\"\n",
      "  warnings.warn('\"import openbabel\" is deprecated, instead use \"from openbabel import openbabel\"')\n",
      "/home/chris/cme/mbuild/mbuild/compound.py:2749: UserWarning: No unitcell detected for pybel.Molecule c1ccc(cc1)S(=O)(=O)c1ccccc1\t\n",
      "\n",
      "  warn(\"No unitcell detected for pybel.Molecule {}\".format(pybel_mol))\n"
     ]
    },
    {
     "data": {
      "application/3dmoljs_load.v0": "<div id=\"3dmolviewer_1583436027118475\"  style=\"position: relative; width: 640px; height: 480px\">\n        <p id=\"3dmolwarning_1583436027118475\" style=\"background-color:#ffcccc;color:black\">You appear to be running in JupyterLab (or JavaScript failed to load for some other reason).  You need to install the 3dmol extension: <br>\n        <tt>jupyter labextension install jupyterlab_3dmol</tt></p>\n        </div>\n<script>\n\nvar loadScriptAsync = function(uri){\n  return new Promise((resolve, reject) => {\n    var tag = document.createElement('script');\n    tag.src = uri;\n    tag.async = true;\n    tag.onload = () => {\n      resolve();\n    };\n  var firstScriptTag = document.getElementsByTagName('script')[0];\n  firstScriptTag.parentNode.insertBefore(tag, firstScriptTag);\n});\n};\n\nif(typeof $3Dmolpromise === 'undefined') {\n$3Dmolpromise = null;\n  $3Dmolpromise = loadScriptAsync('https://3dmol.csb.pitt.edu/build/3Dmol.js');\n}\n\nvar viewer_1583436027118475 = null;\nvar warn = document.getElementById(\"3dmolwarning_1583436027118475\");\nif(warn) {\n    warn.parentNode.removeChild(warn);\n}\n$3Dmolpromise.then(function() {\nviewer_1583436027118475 = $3Dmol.createViewer($(\"#3dmolviewer_1583436027118475\"),{backgroundColor:\"white\"});\n\tviewer_1583436027118475.addModel(\"@<TRIPOS>MOLECULE\\nRES\\n25 26 1 0 1\\nSMALL\\nNO_CHARGES\\n@<TRIPOS>CRYSIN\\n   13.7061    11.5906     8.9409    90.0000    90.0000    90.0000  1  1\\n@<TRIPOS>ATOM\\n       1 C            1.3679    -0.2023     0.0149 C             1 RES     \\n       2 C            0.8576     1.0967     0.0022 C             1 RES     \\n       3 C           -0.5221     1.3079     0.0178 C             1 RES     \\n       4 C           -1.3857     0.2096    -0.0493 C             1 RES     \\n       5 C           -0.8748    -1.0906    -0.0441 C             1 RES     \\n       6 C            0.5026    -1.2935     0.0070 C             1 RES     \\n       7 S           -3.1270     0.5239    -0.2388 S             1 RES     \\n       8 O           -3.5776     1.1508     0.9941 O             1 RES     \\n       9 O           -3.2714     1.2041    -1.5106 O             1 RES     \\n      10 C           -4.0165    -1.0148    -0.3600 C             1 RES     \\n      11 C           -4.7947    -1.2981    -1.4857 C             1 RES     \\n      12 C           -5.5826    -2.4508    -1.4944 C             1 RES     \\n      13 C           -5.5166    -3.3557    -0.4325 C             1 RES     \\n      14 C           -4.7047    -3.0882     0.6690 C             1 RES     \\n      15 C           -3.9771    -1.9023     0.7216 C             1 RES     \\n      16 H            2.4424    -0.3668     0.0310 H             1 RES     \\n      17 H            1.5382     1.9439    -0.0338 H             1 RES     \\n      18 H           -0.9150     2.3219     0.0636 H             1 RES     \\n      19 H           -1.5112    -1.9659    -0.0885 H             1 RES     \\n      20 H            0.8991    -2.3058     0.0151 H             1 RES     \\n      21 H           -4.8137    -0.6281    -2.3427 H             1 RES     \\n      22 H           -6.2637    -2.6389    -2.3214 H             1 RES     \\n      23 H           -6.1071    -4.2687    -0.4602 H             1 RES     \\n      24 H           -4.6597    -3.7902     1.4978 H             1 RES     \\n      25 H           -3.3720    -1.6812     1.5982 H             1 RES     \\n@<TRIPOS>BOND\\n       1       10       11 1\\n       2        5       19 1\\n       3       12       13 1\\n       4        3        4 1\\n       5       10       15 1\\n       6       14       15 1\\n       7       15       25 1\\n       8        7       10 1\\n       9        7        9 1\\n      10        6        1 1\\n      11        4        7 1\\n      12        2        1 1\\n      13        4        5 1\\n      14       16        1 1\\n      15       12       22 1\\n      16        2       17 1\\n      17       12       11 1\\n      18        3       18 1\\n      19       14       13 1\\n      20        2        3 1\\n      21        8        7 1\\n      22       13       23 1\\n      23       14       24 1\\n      24        5        6 1\\n      25       11       21 1\\n      26        6       20 1\\n@<TRIPOS>SUBSTRUCTURE\\n       1 RES             1 RESIDUE    0 **** ROOT      0\\n\",\"mol2\");\n\tviewer_1583436027118475.setStyle({\"stick\": {\"radius\": 0.2, \"color\": \"grey\"}, \"sphere\": {\"scale\": 0.3, \"colorscheme\": {}}});\n\tviewer_1583436027118475.zoomTo();\nviewer_1583436027118475.render();\n});\n</script>",
      "text/html": [
       "<div id=\"3dmolviewer_1583436027118475\"  style=\"position: relative; width: 640px; height: 480px\">\n",
       "        <p id=\"3dmolwarning_1583436027118475\" style=\"background-color:#ffcccc;color:black\">You appear to be running in JupyterLab (or JavaScript failed to load for some other reason).  You need to install the 3dmol extension: <br>\n",
       "        <tt>jupyter labextension install jupyterlab_3dmol</tt></p>\n",
       "        </div>\n",
       "<script>\n",
       "\n",
       "var loadScriptAsync = function(uri){\n",
       "  return new Promise((resolve, reject) => {\n",
       "    var tag = document.createElement('script');\n",
       "    tag.src = uri;\n",
       "    tag.async = true;\n",
       "    tag.onload = () => {\n",
       "      resolve();\n",
       "    };\n",
       "  var firstScriptTag = document.getElementsByTagName('script')[0];\n",
       "  firstScriptTag.parentNode.insertBefore(tag, firstScriptTag);\n",
       "});\n",
       "};\n",
       "\n",
       "if(typeof $3Dmolpromise === 'undefined') {\n",
       "$3Dmolpromise = null;\n",
       "  $3Dmolpromise = loadScriptAsync('https://3dmol.csb.pitt.edu/build/3Dmol.js');\n",
       "}\n",
       "\n",
       "var viewer_1583436027118475 = null;\n",
       "var warn = document.getElementById(\"3dmolwarning_1583436027118475\");\n",
       "if(warn) {\n",
       "    warn.parentNode.removeChild(warn);\n",
       "}\n",
       "$3Dmolpromise.then(function() {\n",
       "viewer_1583436027118475 = $3Dmol.createViewer($(\"#3dmolviewer_1583436027118475\"),{backgroundColor:\"white\"});\n",
       "\tviewer_1583436027118475.addModel(\"@<TRIPOS>MOLECULE\\nRES\\n25 26 1 0 1\\nSMALL\\nNO_CHARGES\\n@<TRIPOS>CRYSIN\\n   13.7061    11.5906     8.9409    90.0000    90.0000    90.0000  1  1\\n@<TRIPOS>ATOM\\n       1 C            1.3679    -0.2023     0.0149 C             1 RES     \\n       2 C            0.8576     1.0967     0.0022 C             1 RES     \\n       3 C           -0.5221     1.3079     0.0178 C             1 RES     \\n       4 C           -1.3857     0.2096    -0.0493 C             1 RES     \\n       5 C           -0.8748    -1.0906    -0.0441 C             1 RES     \\n       6 C            0.5026    -1.2935     0.0070 C             1 RES     \\n       7 S           -3.1270     0.5239    -0.2388 S             1 RES     \\n       8 O           -3.5776     1.1508     0.9941 O             1 RES     \\n       9 O           -3.2714     1.2041    -1.5106 O             1 RES     \\n      10 C           -4.0165    -1.0148    -0.3600 C             1 RES     \\n      11 C           -4.7947    -1.2981    -1.4857 C             1 RES     \\n      12 C           -5.5826    -2.4508    -1.4944 C             1 RES     \\n      13 C           -5.5166    -3.3557    -0.4325 C             1 RES     \\n      14 C           -4.7047    -3.0882     0.6690 C             1 RES     \\n      15 C           -3.9771    -1.9023     0.7216 C             1 RES     \\n      16 H            2.4424    -0.3668     0.0310 H             1 RES     \\n      17 H            1.5382     1.9439    -0.0338 H             1 RES     \\n      18 H           -0.9150     2.3219     0.0636 H             1 RES     \\n      19 H           -1.5112    -1.9659    -0.0885 H             1 RES     \\n      20 H            0.8991    -2.3058     0.0151 H             1 RES     \\n      21 H           -4.8137    -0.6281    -2.3427 H             1 RES     \\n      22 H           -6.2637    -2.6389    -2.3214 H             1 RES     \\n      23 H           -6.1071    -4.2687    -0.4602 H             1 RES     \\n      24 H           -4.6597    -3.7902     1.4978 H             1 RES     \\n      25 H           -3.3720    -1.6812     1.5982 H             1 RES     \\n@<TRIPOS>BOND\\n       1       10       11 1\\n       2        5       19 1\\n       3       12       13 1\\n       4        3        4 1\\n       5       10       15 1\\n       6       14       15 1\\n       7       15       25 1\\n       8        7       10 1\\n       9        7        9 1\\n      10        6        1 1\\n      11        4        7 1\\n      12        2        1 1\\n      13        4        5 1\\n      14       16        1 1\\n      15       12       22 1\\n      16        2       17 1\\n      17       12       11 1\\n      18        3       18 1\\n      19       14       13 1\\n      20        2        3 1\\n      21        8        7 1\\n      22       13       23 1\\n      23       14       24 1\\n      24        5        6 1\\n      25       11       21 1\\n      26        6       20 1\\n@<TRIPOS>SUBSTRUCTURE\\n       1 RES             1 RESIDUE    0 **** ROOT      0\\n\",\"mol2\");\n",
       "\tviewer_1583436027118475.setStyle({\"stick\": {\"radius\": 0.2, \"color\": \"grey\"}, \"sphere\": {\"scale\": 0.3, \"colorscheme\": {}}});\n",
       "\tviewer_1583436027118475.zoomTo();\n",
       "viewer_1583436027118475.render();\n",
       "});\n",
       "</script>"
      ]
     },
     "metadata": {},
     "output_type": "display_data"
    },
    {
     "name": "stdout",
     "output_type": "stream",
     "text": [
      "ccccccc6))S=O)=O)cccccc6)))))))))))ccccc6))S=O)=O)cccccc6\n"
     ]
    }
   ],
   "source": [
    "#viz('Oc1ccc(cc1)S(=O)(=O)c1ccc(cc1)O')\n",
    "viz('c1ccc(cc1)S(=O)(=O)c1ccc(cc1)')\n",
    "deep_PES = convert_smiles(smiles = 'c3(c1ccc(cc1)S(=O)(=O)c2ccccc2)ccc(cc3)S(=O)(=O)c4ccccc4')\n",
    "print(deep_PES)"
   ]
  },
  {
   "cell_type": "code",
   "execution_count": 35,
   "metadata": {},
   "outputs": [
    {
     "name": "stdout",
     "output_type": "stream",
     "text": [
      "cccccc6))S=O)=O)cccccc6))\n"
     ]
    },
    {
     "data": {
      "application/3dmoljs_load.v0": "<div id=\"3dmolviewer_15834363896255083\"  style=\"position: relative; width: 640px; height: 480px\">\n        <p id=\"3dmolwarning_15834363896255083\" style=\"background-color:#ffcccc;color:black\">You appear to be running in JupyterLab (or JavaScript failed to load for some other reason).  You need to install the 3dmol extension: <br>\n        <tt>jupyter labextension install jupyterlab_3dmol</tt></p>\n        </div>\n<script>\n\nvar loadScriptAsync = function(uri){\n  return new Promise((resolve, reject) => {\n    var tag = document.createElement('script');\n    tag.src = uri;\n    tag.async = true;\n    tag.onload = () => {\n      resolve();\n    };\n  var firstScriptTag = document.getElementsByTagName('script')[0];\n  firstScriptTag.parentNode.insertBefore(tag, firstScriptTag);\n});\n};\n\nif(typeof $3Dmolpromise === 'undefined') {\n$3Dmolpromise = null;\n  $3Dmolpromise = loadScriptAsync('https://3dmol.csb.pitt.edu/build/3Dmol.js');\n}\n\nvar viewer_15834363896255083 = null;\nvar warn = document.getElementById(\"3dmolwarning_15834363896255083\");\nif(warn) {\n    warn.parentNode.removeChild(warn);\n}\n$3Dmolpromise.then(function() {\nviewer_15834363896255083 = $3Dmol.createViewer($(\"#3dmolviewer_15834363896255083\"),{backgroundColor:\"white\"});\n\tviewer_15834363896255083.addModel(\"@<TRIPOS>MOLECULE\\nRES\\n232 251 1 0 1\\nSMALL\\nNO_CHARGES\\n@<TRIPOS>CRYSIN\\n   86.3535    27.0448    35.7339    90.0000    90.0000    90.0000  1  1\\n@<TRIPOS>ATOM\\n       1 C            1.3683    -0.2019     0.0149 C             1 RES     \\n       2 C            0.8575     1.0971     0.0017 C             1 RES     \\n       3 C           -0.5221     1.3087     0.0181 C             1 RES     \\n       4 C           -1.3841     0.2101    -0.0494 C             1 RES     \\n       5 C           -0.8724    -1.0901    -0.0438 C             1 RES     \\n       6 C            0.5041    -1.2934     0.0073 C             1 RES     \\n       7 S           -3.1253     0.5176    -0.2406 S             1 RES     \\n       8 O           -3.5840     1.1398     0.9907 O             1 RES     \\n       9 O           -3.2752     1.1951    -1.5136 O             1 RES     \\n      10 C           -3.9945    -1.0332    -0.3608 C             1 RES     \\n      11 C           -4.7716    -1.3260    -1.4828 C             1 RES     \\n      12 C           -5.5853    -2.4708    -1.4760 C             1 RES     \\n      13 C           -6.6623    -2.6155    -2.4551 C             1 RES     \\n      14 C           -6.4184    -2.6599    -3.8314 C             1 RES     \\n      15 C           -7.4807    -2.6381    -4.7372 C             1 RES     \\n      16 C           -8.7956    -2.6755    -4.2620 C             1 RES     \\n      17 C           -9.0556    -2.6567    -2.8937 C             1 RES     \\n      18 C           -7.9930    -2.6128    -2.0005 C             1 RES     \\n      19 S          -10.1095    -2.8456    -5.4436 S             1 RES     \\n      20 O          -10.1366    -1.6194    -6.2244 O             1 RES     \\n      21 O           -9.9015    -4.1298    -6.0817 O             1 RES     \\n      22 C          -11.6700    -2.9222    -4.5884 C             1 RES     \\n      23 C          -12.5082    -4.0286    -4.7397 C             1 RES     \\n      24 C          -13.8051    -3.9835    -4.2040 C             1 RES     \\n      25 C          -14.8272    -4.9273    -4.6567 C             1 RES     \\n      26 C          -14.7135    -6.3094    -4.4771 C             1 RES     \\n      27 C          -15.6460    -7.1736    -5.0566 C             1 RES     \\n      28 C          -16.7495    -6.6469    -5.7369 C             1 RES     \\n      29 C          -16.8892    -5.2720    -5.9038 C             1 RES     \\n      30 C          -15.9247    -4.4239    -5.3781 C             1 RES     \\n      31 S          -18.0138    -7.7652    -6.2834 S             1 RES     \\n      32 O          -17.4336    -8.5793    -7.3401 O             1 RES     \\n      33 O          -18.5428    -8.3751    -5.0809 O             1 RES     \\n      34 C          -19.3383    -6.8410    -7.0356 C             1 RES     \\n      35 C          -20.6264    -6.9125    -6.5049 C             1 RES     \\n      36 C          -21.6907    -6.3112    -7.1936 C             1 RES     \\n      37 C          -23.0696    -6.6688    -6.8642 C             1 RES     \\n      38 C          -23.6100    -6.4627    -5.5903 C             1 RES     \\n      39 C          -24.8708    -6.9681    -5.2670 C             1 RES     \\n      40 C          -25.6370    -7.5935    -6.2547 C             1 RES     \\n      41 C          -25.1207    -7.7873    -7.5352 C             1 RES     \\n      42 C          -23.8403    -7.3387    -7.8294 C             1 RES     \\n      43 S          -27.3108    -8.0476    -5.8635 S             1 RES     \\n      44 O          -27.2410    -9.0964    -4.8594 O             1 RES     \\n      45 O          -28.0093    -6.8061    -5.5993 O             1 RES     \\n      46 C          -28.0502    -8.7860    -7.3050 C             1 RES     \\n      47 C          -29.1553    -8.2061    -7.9311 C             1 RES     \\n      48 C          -29.7621    -8.8757    -9.0076 C             1 RES     \\n      49 C          -31.0956    -8.4890    -9.4704 C             1 RES     \\n      50 C          -31.3731    -7.2114    -9.9666 C             1 RES     \\n      51 C          -32.6872    -6.8354   -10.2532 C             1 RES     \\n      52 C          -33.7165    -7.7759   -10.1412 C             1 RES     \\n      53 C          -33.4531    -9.0619    -9.6758 C             1 RES     \\n      54 C          -32.1521    -9.4071    -9.3315 C             1 RES     \\n      55 S          -35.3382    -7.3142   -10.6975 S             1 RES     \\n      56 O          -35.8141    -6.2776    -9.7961 O             1 RES     \\n      57 O          -35.2100    -7.0629   -12.1189 O             1 RES     \\n      58 C          -36.4500    -8.6911   -10.4980 C             1 RES     \\n      59 C          -37.1301    -9.2180   -11.5973 C             1 RES     \\n      60 C          -38.1327   -10.1783   -11.3875 C             1 RES     \\n      61 C          -39.1005   -10.4806   -12.4417 C             1 RES     \\n      62 C          -38.7198   -11.0123   -13.6777 C             1 RES     \\n      63 C          -39.6566   -11.1513   -14.7040 C             1 RES     \\n      64 C          -41.0007   -10.8504   -14.4596 C             1 RES     \\n      65 C          -41.3999   -10.3398   -13.2269 C             1 RES     \\n      66 C          -40.4499   -10.1441   -12.2332 C             1 RES     \\n      67 S          -42.1884   -11.2292   -15.7232 S             1 RES     \\n      68 O          -41.9102   -10.3440   -16.8426 O             1 RES     \\n      69 O          -42.1454   -12.6686   -15.8844 O             1 RES     \\n      70 C          -43.8216   -10.8059   -15.1523 C             1 RES     \\n      71 C          -44.8228   -11.7765   -15.0908 C             1 RES     \\n      72 C          -46.1436   -11.3841   -14.8202 C             1 RES     \\n      73 C          -47.2552   -12.2888   -15.1127 C             1 RES     \\n      74 C          -47.3870   -13.5367   -14.4953 C             1 RES     \\n      75 C          -48.3691   -14.4332   -14.9209 C             1 RES     \\n      76 C          -49.2854   -14.0408   -15.9021 C             1 RES     \\n      77 C          -49.1849   -12.7907   -16.5076 C             1 RES     \\n      78 C          -48.1667   -11.9296   -16.1216 C             1 RES     \\n      79 S          -50.6373   -15.1293   -16.2705 S             1 RES     \\n      80 O          -50.0744   -16.3043   -16.9184 O             1 RES     \\n      81 O          -51.3896   -15.2487   -15.0391 O             1 RES     \\n      82 C          -51.7023   -14.3559   -17.4700 C             1 RES     \\n      83 C          -53.0279   -14.0725   -17.1417 C             1 RES     \\n      84 C          -53.8942   -13.5817   -18.1296 C             1 RES     \\n      85 C          -55.3395   -13.6059   -17.9124 C             1 RES     \\n      86 C          -55.9464   -12.9210   -16.8536 C             1 RES     \\n      87 C          -57.3042   -13.0995   -16.5809 C             1 RES     \\n      88 C          -58.0807   -13.8864   -17.4357 C             1 RES     \\n      89 C          -57.4934   -14.5604   -18.5065 C             1 RES     \\n      90 C          -56.1298   -14.4292   -18.7311 C             1 RES     \\n      91 S          -59.8404   -13.9357   -17.1762 S             1 RES     \\n      92 O          -60.0608   -14.5911   -15.8989 O             1 RES     \\n      93 O          -60.3195   -12.5890   -17.4188 O             1 RES     \\n      94 C          -60.5582   -14.9975   -18.4119 C             1 RES     \\n      95 C          -61.4610   -14.5161   -19.3628 C             1 RES     \\n      96 C          -62.0491   -15.4204   -20.2652 C             1 RES     \\n      97 C          -63.2240   -15.0415   -21.0524 C             1 RES     \\n      98 C          -63.2009   -13.9894   -21.9733 C             1 RES     \\n      99 C          -64.3779   -13.5725   -22.5998 C             1 RES     \\n     100 C          -65.5657   -14.2788   -22.3837 C             1 RES     \\n     101 C          -65.6006   -15.3468   -21.4901 C             1 RES     \\n     102 C          -64.4385   -15.7130   -20.8218 C             1 RES     \\n     103 S          -66.9930   -13.8355   -23.3442 S             1 RES     \\n     104 O          -67.3805   -12.4979   -22.9276 O             1 RES     \\n     105 O          -66.6437   -14.1142   -24.7228 O             1 RES     \\n     106 C          -68.3542   -14.9001   -22.9121 C             1 RES     \\n     107 C          -68.9870   -15.6817   -23.8819 C             1 RES     \\n     108 C          -70.1686   -16.3618   -23.5461 C             1 RES     \\n     109 C          -71.0606   -16.8742   -24.5869 C             1 RES     \\n     110 C          -70.6815   -17.8783   -25.4826 C             1 RES     \\n     111 C          -71.5362   -18.2529   -26.5234 C             1 RES     \\n     112 C          -72.8145   -17.6884   -26.6106 C             1 RES     \\n     113 C          -73.2116   -16.6972   -25.7176 C             1 RES     \\n     114 C          -72.3310   -16.2856   -24.7255 C             1 RES     \\n     115 S          -73.9398   -18.3393   -27.8219 S             1 RES     \\n     116 O          -73.3948   -17.9975   -29.1254 O             1 RES     \\n     117 O          -74.1601   -19.7222   -27.4469 O             1 RES     \\n     118 C          -75.5086   -17.5032   -27.7076 C             1 RES     \\n     119 C          -76.6793   -18.2215   -27.4512 C             1 RES     \\n     120 C          -77.9072   -17.5588   -27.5031 C             1 RES     \\n     121 C          -77.9534   -16.1779   -27.7082 C             1 RES     \\n     122 C          -76.7773   -15.4589   -27.9171 C             1 RES     \\n     123 C          -75.5551   -16.1249   -27.9480 C             1 RES     \\n     124 C          -70.5968   -16.3741   -22.2074 C             1 RES     \\n     125 C          -69.9342   -15.6291   -21.2381 C             1 RES     \\n     126 C          -68.8353   -14.8599   -21.5983 C             1 RES     \\n     127 C          -61.6028   -16.7532   -20.2888 C             1 RES     \\n     128 C          -60.6866   -17.2167   -19.3513 C             1 RES     \\n     129 C          -60.1976   -16.3490   -18.3854 C             1 RES     \\n     130 C          -53.3746   -13.2402   -19.3878 C             1 RES     \\n     131 C          -52.0417   -13.4949   -19.6998 C             1 RES     \\n     132 C          -51.2129   -14.0909   -18.7538 C             1 RES     \\n     133 C          -46.4029   -10.0527   -14.4567 C             1 RES     \\n     134 C          -45.3895    -9.0994   -14.4741 C             1 RES     \\n     135 C          -44.1058    -9.4673   -14.8605 C             1 RES     \\n     136 C          -38.3185   -10.7061   -10.0992 C             1 RES     \\n     137 C          -37.6038   -10.2074    -9.0148 C             1 RES     \\n     138 C          -36.6972    -9.1715    -9.2072 C             1 RES     \\n     139 C          -29.1543   -10.0314    -9.5262 C             1 RES     \\n     140 C          -28.0373   -10.5873    -8.9113 C             1 RES     \\n     141 C          -27.5105    -9.9882    -7.7748 C             1 RES     \\n     142 C          -21.4175    -5.5157    -8.3172 C             1 RES     \\n     143 C          -20.1230    -5.4145    -8.8191 C             1 RES     \\n     144 C          -19.0873    -6.1098    -8.2020 C             1 RES     \\n     145 C          -14.1740    -2.8988    -3.3907 C             1 RES     \\n     146 C          -13.3156    -1.8195    -3.2079 C             1 RES     \\n     147 C          -12.0776    -1.8126    -3.8392 C             1 RES     \\n     148 C           -5.4801    -3.3804    -0.4115 C             1 RES     \\n     149 C           -4.6693    -3.1027     0.6847 C             1 RES     \\n     150 C           -3.9570    -1.9095     0.7291 C             1 RES     \\n     151 H            2.4428    -0.3663     0.0315 H             1 RES     \\n     152 H            1.5381     1.9441    -0.0357 H             1 RES     \\n     153 H           -0.9152     2.3225     0.0651 H             1 RES     \\n     154 H           -1.5074    -1.9664    -0.0876 H             1 RES     \\n     155 H            0.9001    -2.3057     0.0152 H             1 RES     \\n     156 H           -4.8092    -0.6362    -2.3255 H             1 RES     \\n     157 H           -5.3967    -2.7106    -4.2009 H             1 RES     \\n     158 H           -7.2768    -2.5967    -5.8050 H             1 RES     \\n     159 H          -10.0569    -2.6668    -2.4807 H             1 RES     \\n     160 H           -8.2106    -2.5645    -0.9336 H             1 RES     \\n     161 H          -12.1938    -4.8843    -5.3364 H             1 RES     \\n     162 H          -13.8991    -6.7168    -3.8824 H             1 RES     \\n     163 H          -15.5108    -8.2498    -4.9695 H             1 RES     \\n     164 H          -17.7184    -4.8197    -6.4334 H             1 RES     \\n     165 H          -16.0292    -3.3516    -5.5426 H             1 RES     \\n     166 H          -20.8206    -7.4934    -5.6039 H             1 RES     \\n     167 H          -23.0450    -5.9080    -4.8445 H             1 RES     \\n     168 H          -25.2471    -6.8684    -4.2513 H             1 RES     \\n     169 H          -25.6676    -8.2850    -8.3268 H             1 RES     \\n     170 H          -23.4362    -7.5282    -8.8238 H             1 RES     \\n     171 H          -29.5823    -7.2767    -7.5551 H             1 RES     \\n     172 H          -30.5632    -6.5048   -10.1325 H             1 RES     \\n     173 H          -32.8993    -5.8150   -10.5655 H             1 RES     \\n     174 H          -34.2202    -9.8177    -9.5582 H             1 RES     \\n     175 H          -31.9651   -10.4069    -8.9398 H             1 RES     \\n     176 H          -36.9437    -8.8345   -12.6000 H             1 RES     \\n     177 H          -37.6905   -11.3226   -13.8425 H             1 RES     \\n     178 H          -39.3347   -11.4988   -15.6834 H             1 RES     \\n     179 H          -42.4255   -10.0775   -12.9982 H             1 RES     \\n     180 H          -40.7698    -9.7149   -11.2837 H             1 RES     \\n     181 H          -44.6013   -12.8161   -15.3302 H             1 RES     \\n     182 H          -46.7223   -13.8135   -13.6802 H             1 RES     \\n     183 H          -48.4170   -15.4280   -14.4831 H             1 RES     \\n     184 H          -49.8636   -12.4501   -17.2800 H             1 RES     \\n     185 H          -48.0784   -10.9678   -16.6266 H             1 RES     \\n     186 H          -53.4091   -14.2940   -16.1455 H             1 RES     \\n     187 H          -55.3578   -12.2464   -16.2361 H             1 RES     \\n     188 H          -57.7461   -12.6228   -15.7090 H             1 RES     \\n     189 H          -58.0480   -15.2006   -19.1818 H             1 RES     \\n     190 H          -55.6789   -14.9890   -19.5505 H             1 RES     \\n     191 H          -61.7509   -13.4657   -19.3739 H             1 RES     \\n     192 H          -62.2619   -13.4939   -22.2088 H             1 RES     \\n     193 H          -64.3602   -12.7046   -23.2557 H             1 RES     \\n     194 H          -66.5000   -15.9125   -21.2788 H             1 RES     \\n     195 H          -64.4869   -16.5330   -20.1053 H             1 RES     \\n     196 H          -68.6182   -15.7012   -24.9069 H             1 RES     \\n     197 H          -69.7234   -18.3796   -25.3660 H             1 RES     \\n     198 H          -71.2056   -18.9890   -27.2534 H             1 RES     \\n     199 H          -74.1837   -16.2211   -25.7546 H             1 RES     \\n     200 H          -72.6442   -15.4912   -24.0480 H             1 RES     \\n     201 H          -76.6528   -19.2875   -27.2352 H             1 RES     \\n     202 H          -78.8338   -18.1196   -27.4022 H             1 RES     \\n     203 H          -78.9107   -15.6617   -27.7141 H             1 RES     \\n     204 H          -76.8151   -14.3854   -28.0839 H             1 RES     \\n     205 H          -74.6435   -15.5651   -28.1453 H             1 RES     \\n     206 H          -71.4929   -16.9288   -21.9312 H             1 RES     \\n     207 H          -70.3086   -15.6091   -20.2188 H             1 RES     \\n     208 H          -68.3493   -14.2387   -20.8497 H             1 RES     \\n     209 H          -62.0092   -17.4489   -21.0218 H             1 RES     \\n     210 H          -60.3819   -18.2588   -19.3539 H             1 RES     \\n     211 H          -59.5031   -16.7172   -17.6337 H             1 RES     \\n     212 H          -54.0295   -12.8132   -20.1463 H             1 RES     \\n     213 H          -51.6674   -13.2652   -20.6937 H             1 RES     \\n     214 H          -50.1831   -14.3239   -19.0147 H             1 RES     \\n     215 H          -47.4184    -9.7467   -14.2083 H             1 RES     \\n     216 H          -45.6160    -8.0638   -14.2372 H             1 RES     \\n     217 H          -43.3280    -8.7099   -14.9218 H             1 RES     \\n     218 H          -39.0667   -11.4803    -9.9337 H             1 RES     \\n     219 H          -37.7933   -10.5932    -8.0173 H             1 RES     \\n     220 H          -36.1765    -8.7503    -8.3505 H             1 RES     \\n     221 H          -29.5856   -10.5285   -10.3941 H             1 RES     \\n     222 H          -27.6039   -11.5053    -9.2970 H             1 RES     \\n     223 H          -26.6574   -10.4411    -7.2748 H             1 RES     \\n     224 H          -22.2322    -5.0096    -8.8335 H             1 RES     \\n     225 H          -19.9364    -4.8314    -9.7167 H             1 RES     \\n     226 H          -18.0860    -6.0636    -8.6238 H             1 RES     \\n     227 H          -15.1663    -2.8715    -2.9420 H             1 RES     \\n     228 H          -13.6364    -0.9657    -2.6181 H             1 RES     \\n     229 H          -11.4289    -0.9461    -3.7347 H             1 RES     \\n     230 H           -6.0762    -4.2921    -0.4165 H             1 RES     \\n     231 H           -4.6345    -3.7942     1.5216 H             1 RES     \\n     232 H           -3.3630    -1.6727     1.6085 H             1 RES     \\n@<TRIPOS>BOND\\n       1       70       67 1\\n       2       92       91 1\\n       3      179       65 1\\n       4       21       19 1\\n       5       49       48 1\\n       6      152        2 1\\n       7      196      107 1\\n       8      137      138 1\\n       9      222      140 1\\n      10      198      111 1\\n      11      141       46 1\\n      12       24       25 1\\n      13       49       54 1\\n      14       26       27 1\\n      15      142      143 1\\n      16       74       73 1\\n      17      208      126 1\\n      18      157       14 1\\n      19       17       16 1\\n      20      156       11 1\\n      21      109      110 1\\n      22      216      134 1\\n      23      184       77 1\\n      24      220      138 1\\n      25       86       85 1\\n      26      151        1 1\\n      27       82       83 1\\n      28      171       47 1\\n      29      109      108 1\\n      30       55       56 1\\n      31       63       64 1\\n      32      139       48 1\\n      33        7        8 1\\n      34        5        6 1\\n      35       17       18 1\\n      36      113      114 1\\n      37      201      119 1\\n      38      232      150 1\\n      39      202      120 1\\n      40      223      141 1\\n      41       79       80 1\\n      42      101      100 1\\n      43       28       31 1\\n      44       97      102 1\\n      45      145       24 1\\n      46       95       94 1\\n      47      227      145 1\\n      48       43       45 1\\n      49      121      122 1\\n      50       91       94 1\\n      51      115      116 1\\n      52       50       51 1\\n      53       13       14 1\\n      54        6        1 1\\n      55      163       27 1\\n      56      132       82 1\\n      57       99      100 1\\n      58      136      137 1\\n      59      189       89 1\\n      60       64       67 1\\n      61       96       95 1\\n      62      226      144 1\\n      63       90       85 1\\n      64      169       41 1\\n      65       60      136 1\\n      66      127       96 1\\n      67      180       66 1\\n      68      139      140 1\\n      69      203      121 1\\n      70       85       84 1\\n      71        4        3 1\\n      72       25       26 1\\n      73       29       30 1\\n      74       49       50 1\\n      75      109      114 1\\n      76       39       40 1\\n      77      211      129 1\\n      78        7       10 1\\n      79      228      146 1\\n      80      221      139 1\\n      81       89       88 1\\n      82       78       73 1\\n      83      147       22 1\\n      84      181       71 1\\n      85      182       74 1\\n      86       58      138 1\\n      87      126      106 1\\n      88      160       18 1\\n      89      186       83 1\\n      90      225      143 1\\n      91       31       34 1\\n      92       42       41 1\\n      93       47       46 1\\n      94      204      122 1\\n      95      111      112 1\\n      96       72       73 1\\n      97      188       87 1\\n      98       40       41 1\\n      99      194      101 1\\n     100       54      175 1\\n     101       75       74 1\\n     102      212      130 1\\n     103       53      174 1\\n     104      115      112 1\\n     105       31       32 1\\n     106       51       52 1\\n     107       15       16 1\\n     108        4        7 1\\n     109      101      102 1\\n     110      148       12 1\\n     111      159       17 1\\n     112      122      123 1\\n     113       66       65 1\\n     114      190       90 1\\n     115      149      150 1\\n     116       91       88 1\\n     117      231      149 1\\n     118      167       38 1\\n     119      166       35 1\\n     120      150       10 1\\n     121       25       30 1\\n     122      127      128 1\\n     123       28       29 1\\n     124       37       36 1\\n     125      142       36 1\\n     126      120      119 1\\n     127      230      148 1\\n     128      105      103 1\\n     129       10       11 1\\n     130       15       14 1\\n     131      161       23 1\\n     132      124      108 1\\n     133       37       42 1\\n     134      195      102 1\\n     135      183       75 1\\n     136      112      113 1\\n     137       61       66 1\\n     138       38       39 1\\n     139       99       98 1\\n     140      135       70 1\\n     141      192       98 1\\n     142      145      146 1\\n     143      133       72 1\\n     144      153        3 1\\n     145      229      147 1\\n     146      214      132 1\\n     147       60       61 1\\n     148       69       67 1\\n     149       62       63 1\\n     150      162       26 1\\n     151      134      135 1\\n     152       55       57 1\\n     153       11       12 1\\n     154       44       43 1\\n     155      103      100 1\\n     156      111      110 1\\n     157       51      173 1\\n     158       87       86 1\\n     159       89       90 1\\n     160      197      110 1\\n     161        4        5 1\\n     162      168       39 1\\n     163      200      114 1\\n     164      170       42 1\\n     165       27       28 1\\n     166      130       84 1\\n     167      213      131 1\\n     168      215      133 1\\n     169      115      118 1\\n     170      155        6 1\\n     171       63      178 1\\n     172      107      106 1\\n     173      164       29 1\\n     174       35       36 1\\n     175       93       91 1\\n     176       19       20 1\\n     177        2        1 1\\n     178      119      118 1\\n     179      219      137 1\\n     180      103      104 1\\n     181       50      172 1\\n     182       58       59 1\\n     183       71       72 1\\n     184       13       18 1\\n     185      148      149 1\\n     186       55       58 1\\n     187      128      129 1\\n     188      193       99 1\\n     189      131      132 1\\n     190       97       96 1\\n     191       68       67 1\\n     192      158       15 1\\n     193      120      121 1\\n     194       61       62 1\\n     195       77       78 1\\n     196       81       79 1\\n     197        2        3 1\\n     198       43       40 1\\n     199       76       77 1\\n     200      206      124 1\\n     201       59      176 1\\n     202       64       65 1\\n     203      125      126 1\\n     204       52       53 1\\n     205      154        5 1\\n     206      130      131 1\\n     207      165       30 1\\n     208       98       97 1\\n     209       70       71 1\\n     210       31       33 1\\n     211      146      147 1\\n     212      106      103 1\\n     213       37       38 1\\n     214       13       12 1\\n     215       23       22 1\\n     216      207      125 1\\n     217      205      123 1\\n     218       23       24 1\\n     219       59       60 1\\n     220       47       48 1\\n     221        7        9 1\\n     222      144       34 1\\n     223      224      142 1\\n     224      210      128 1\\n     225       79       76 1\\n     226       16       19 1\\n     227       52       55 1\\n     228       76       75 1\\n     229      123      118 1\\n     230      185       78 1\\n     231      107      108 1\\n     232      133      134 1\\n     233      218      136 1\\n     234       62      177 1\\n     235       82       79 1\\n     236       87       88 1\\n     237       22       19 1\\n     238       35       34 1\\n     239      117      115 1\\n     240      140      141 1\\n     241      187       86 1\\n     242       84       83 1\\n     243      191       95 1\\n     244      129       94 1\\n     245      143      144 1\\n     246      209      127 1\\n     247      124      125 1\\n     248       53       54 1\\n     249      199      113 1\\n     250       46       43 1\\n     251      217      135 1\\n@<TRIPOS>SUBSTRUCTURE\\n       1 RES             1 RESIDUE    0 **** ROOT      0\\n\",\"mol2\");\n\tviewer_15834363896255083.setStyle({\"stick\": {\"radius\": 0.2, \"color\": \"grey\"}, \"sphere\": {\"scale\": 0.3, \"colorscheme\": {}}});\n\tviewer_15834363896255083.zoomTo();\nviewer_15834363896255083.render();\n});\n</script>",
      "text/html": [
       "<div id=\"3dmolviewer_15834363896255083\"  style=\"position: relative; width: 640px; height: 480px\">\n",
       "        <p id=\"3dmolwarning_15834363896255083\" style=\"background-color:#ffcccc;color:black\">You appear to be running in JupyterLab (or JavaScript failed to load for some other reason).  You need to install the 3dmol extension: <br>\n",
       "        <tt>jupyter labextension install jupyterlab_3dmol</tt></p>\n",
       "        </div>\n",
       "<script>\n",
       "\n",
       "var loadScriptAsync = function(uri){\n",
       "  return new Promise((resolve, reject) => {\n",
       "    var tag = document.createElement('script');\n",
       "    tag.src = uri;\n",
       "    tag.async = true;\n",
       "    tag.onload = () => {\n",
       "      resolve();\n",
       "    };\n",
       "  var firstScriptTag = document.getElementsByTagName('script')[0];\n",
       "  firstScriptTag.parentNode.insertBefore(tag, firstScriptTag);\n",
       "});\n",
       "};\n",
       "\n",
       "if(typeof $3Dmolpromise === 'undefined') {\n",
       "$3Dmolpromise = null;\n",
       "  $3Dmolpromise = loadScriptAsync('https://3dmol.csb.pitt.edu/build/3Dmol.js');\n",
       "}\n",
       "\n",
       "var viewer_15834363896255083 = null;\n",
       "var warn = document.getElementById(\"3dmolwarning_15834363896255083\");\n",
       "if(warn) {\n",
       "    warn.parentNode.removeChild(warn);\n",
       "}\n",
       "$3Dmolpromise.then(function() {\n",
       "viewer_15834363896255083 = $3Dmol.createViewer($(\"#3dmolviewer_15834363896255083\"),{backgroundColor:\"white\"});\n",
       "\tviewer_15834363896255083.addModel(\"@<TRIPOS>MOLECULE\\nRES\\n232 251 1 0 1\\nSMALL\\nNO_CHARGES\\n@<TRIPOS>CRYSIN\\n   86.3535    27.0448    35.7339    90.0000    90.0000    90.0000  1  1\\n@<TRIPOS>ATOM\\n       1 C            1.3683    -0.2019     0.0149 C             1 RES     \\n       2 C            0.8575     1.0971     0.0017 C             1 RES     \\n       3 C           -0.5221     1.3087     0.0181 C             1 RES     \\n       4 C           -1.3841     0.2101    -0.0494 C             1 RES     \\n       5 C           -0.8724    -1.0901    -0.0438 C             1 RES     \\n       6 C            0.5041    -1.2934     0.0073 C             1 RES     \\n       7 S           -3.1253     0.5176    -0.2406 S             1 RES     \\n       8 O           -3.5840     1.1398     0.9907 O             1 RES     \\n       9 O           -3.2752     1.1951    -1.5136 O             1 RES     \\n      10 C           -3.9945    -1.0332    -0.3608 C             1 RES     \\n      11 C           -4.7716    -1.3260    -1.4828 C             1 RES     \\n      12 C           -5.5853    -2.4708    -1.4760 C             1 RES     \\n      13 C           -6.6623    -2.6155    -2.4551 C             1 RES     \\n      14 C           -6.4184    -2.6599    -3.8314 C             1 RES     \\n      15 C           -7.4807    -2.6381    -4.7372 C             1 RES     \\n      16 C           -8.7956    -2.6755    -4.2620 C             1 RES     \\n      17 C           -9.0556    -2.6567    -2.8937 C             1 RES     \\n      18 C           -7.9930    -2.6128    -2.0005 C             1 RES     \\n      19 S          -10.1095    -2.8456    -5.4436 S             1 RES     \\n      20 O          -10.1366    -1.6194    -6.2244 O             1 RES     \\n      21 O           -9.9015    -4.1298    -6.0817 O             1 RES     \\n      22 C          -11.6700    -2.9222    -4.5884 C             1 RES     \\n      23 C          -12.5082    -4.0286    -4.7397 C             1 RES     \\n      24 C          -13.8051    -3.9835    -4.2040 C             1 RES     \\n      25 C          -14.8272    -4.9273    -4.6567 C             1 RES     \\n      26 C          -14.7135    -6.3094    -4.4771 C             1 RES     \\n      27 C          -15.6460    -7.1736    -5.0566 C             1 RES     \\n      28 C          -16.7495    -6.6469    -5.7369 C             1 RES     \\n      29 C          -16.8892    -5.2720    -5.9038 C             1 RES     \\n      30 C          -15.9247    -4.4239    -5.3781 C             1 RES     \\n      31 S          -18.0138    -7.7652    -6.2834 S             1 RES     \\n      32 O          -17.4336    -8.5793    -7.3401 O             1 RES     \\n      33 O          -18.5428    -8.3751    -5.0809 O             1 RES     \\n      34 C          -19.3383    -6.8410    -7.0356 C             1 RES     \\n      35 C          -20.6264    -6.9125    -6.5049 C             1 RES     \\n      36 C          -21.6907    -6.3112    -7.1936 C             1 RES     \\n      37 C          -23.0696    -6.6688    -6.8642 C             1 RES     \\n      38 C          -23.6100    -6.4627    -5.5903 C             1 RES     \\n      39 C          -24.8708    -6.9681    -5.2670 C             1 RES     \\n      40 C          -25.6370    -7.5935    -6.2547 C             1 RES     \\n      41 C          -25.1207    -7.7873    -7.5352 C             1 RES     \\n      42 C          -23.8403    -7.3387    -7.8294 C             1 RES     \\n      43 S          -27.3108    -8.0476    -5.8635 S             1 RES     \\n      44 O          -27.2410    -9.0964    -4.8594 O             1 RES     \\n      45 O          -28.0093    -6.8061    -5.5993 O             1 RES     \\n      46 C          -28.0502    -8.7860    -7.3050 C             1 RES     \\n      47 C          -29.1553    -8.2061    -7.9311 C             1 RES     \\n      48 C          -29.7621    -8.8757    -9.0076 C             1 RES     \\n      49 C          -31.0956    -8.4890    -9.4704 C             1 RES     \\n      50 C          -31.3731    -7.2114    -9.9666 C             1 RES     \\n      51 C          -32.6872    -6.8354   -10.2532 C             1 RES     \\n      52 C          -33.7165    -7.7759   -10.1412 C             1 RES     \\n      53 C          -33.4531    -9.0619    -9.6758 C             1 RES     \\n      54 C          -32.1521    -9.4071    -9.3315 C             1 RES     \\n      55 S          -35.3382    -7.3142   -10.6975 S             1 RES     \\n      56 O          -35.8141    -6.2776    -9.7961 O             1 RES     \\n      57 O          -35.2100    -7.0629   -12.1189 O             1 RES     \\n      58 C          -36.4500    -8.6911   -10.4980 C             1 RES     \\n      59 C          -37.1301    -9.2180   -11.5973 C             1 RES     \\n      60 C          -38.1327   -10.1783   -11.3875 C             1 RES     \\n      61 C          -39.1005   -10.4806   -12.4417 C             1 RES     \\n      62 C          -38.7198   -11.0123   -13.6777 C             1 RES     \\n      63 C          -39.6566   -11.1513   -14.7040 C             1 RES     \\n      64 C          -41.0007   -10.8504   -14.4596 C             1 RES     \\n      65 C          -41.3999   -10.3398   -13.2269 C             1 RES     \\n      66 C          -40.4499   -10.1441   -12.2332 C             1 RES     \\n      67 S          -42.1884   -11.2292   -15.7232 S             1 RES     \\n      68 O          -41.9102   -10.3440   -16.8426 O             1 RES     \\n      69 O          -42.1454   -12.6686   -15.8844 O             1 RES     \\n      70 C          -43.8216   -10.8059   -15.1523 C             1 RES     \\n      71 C          -44.8228   -11.7765   -15.0908 C             1 RES     \\n      72 C          -46.1436   -11.3841   -14.8202 C             1 RES     \\n      73 C          -47.2552   -12.2888   -15.1127 C             1 RES     \\n      74 C          -47.3870   -13.5367   -14.4953 C             1 RES     \\n      75 C          -48.3691   -14.4332   -14.9209 C             1 RES     \\n      76 C          -49.2854   -14.0408   -15.9021 C             1 RES     \\n      77 C          -49.1849   -12.7907   -16.5076 C             1 RES     \\n      78 C          -48.1667   -11.9296   -16.1216 C             1 RES     \\n      79 S          -50.6373   -15.1293   -16.2705 S             1 RES     \\n      80 O          -50.0744   -16.3043   -16.9184 O             1 RES     \\n      81 O          -51.3896   -15.2487   -15.0391 O             1 RES     \\n      82 C          -51.7023   -14.3559   -17.4700 C             1 RES     \\n      83 C          -53.0279   -14.0725   -17.1417 C             1 RES     \\n      84 C          -53.8942   -13.5817   -18.1296 C             1 RES     \\n      85 C          -55.3395   -13.6059   -17.9124 C             1 RES     \\n      86 C          -55.9464   -12.9210   -16.8536 C             1 RES     \\n      87 C          -57.3042   -13.0995   -16.5809 C             1 RES     \\n      88 C          -58.0807   -13.8864   -17.4357 C             1 RES     \\n      89 C          -57.4934   -14.5604   -18.5065 C             1 RES     \\n      90 C          -56.1298   -14.4292   -18.7311 C             1 RES     \\n      91 S          -59.8404   -13.9357   -17.1762 S             1 RES     \\n      92 O          -60.0608   -14.5911   -15.8989 O             1 RES     \\n      93 O          -60.3195   -12.5890   -17.4188 O             1 RES     \\n      94 C          -60.5582   -14.9975   -18.4119 C             1 RES     \\n      95 C          -61.4610   -14.5161   -19.3628 C             1 RES     \\n      96 C          -62.0491   -15.4204   -20.2652 C             1 RES     \\n      97 C          -63.2240   -15.0415   -21.0524 C             1 RES     \\n      98 C          -63.2009   -13.9894   -21.9733 C             1 RES     \\n      99 C          -64.3779   -13.5725   -22.5998 C             1 RES     \\n     100 C          -65.5657   -14.2788   -22.3837 C             1 RES     \\n     101 C          -65.6006   -15.3468   -21.4901 C             1 RES     \\n     102 C          -64.4385   -15.7130   -20.8218 C             1 RES     \\n     103 S          -66.9930   -13.8355   -23.3442 S             1 RES     \\n     104 O          -67.3805   -12.4979   -22.9276 O             1 RES     \\n     105 O          -66.6437   -14.1142   -24.7228 O             1 RES     \\n     106 C          -68.3542   -14.9001   -22.9121 C             1 RES     \\n     107 C          -68.9870   -15.6817   -23.8819 C             1 RES     \\n     108 C          -70.1686   -16.3618   -23.5461 C             1 RES     \\n     109 C          -71.0606   -16.8742   -24.5869 C             1 RES     \\n     110 C          -70.6815   -17.8783   -25.4826 C             1 RES     \\n     111 C          -71.5362   -18.2529   -26.5234 C             1 RES     \\n     112 C          -72.8145   -17.6884   -26.6106 C             1 RES     \\n     113 C          -73.2116   -16.6972   -25.7176 C             1 RES     \\n     114 C          -72.3310   -16.2856   -24.7255 C             1 RES     \\n     115 S          -73.9398   -18.3393   -27.8219 S             1 RES     \\n     116 O          -73.3948   -17.9975   -29.1254 O             1 RES     \\n     117 O          -74.1601   -19.7222   -27.4469 O             1 RES     \\n     118 C          -75.5086   -17.5032   -27.7076 C             1 RES     \\n     119 C          -76.6793   -18.2215   -27.4512 C             1 RES     \\n     120 C          -77.9072   -17.5588   -27.5031 C             1 RES     \\n     121 C          -77.9534   -16.1779   -27.7082 C             1 RES     \\n     122 C          -76.7773   -15.4589   -27.9171 C             1 RES     \\n     123 C          -75.5551   -16.1249   -27.9480 C             1 RES     \\n     124 C          -70.5968   -16.3741   -22.2074 C             1 RES     \\n     125 C          -69.9342   -15.6291   -21.2381 C             1 RES     \\n     126 C          -68.8353   -14.8599   -21.5983 C             1 RES     \\n     127 C          -61.6028   -16.7532   -20.2888 C             1 RES     \\n     128 C          -60.6866   -17.2167   -19.3513 C             1 RES     \\n     129 C          -60.1976   -16.3490   -18.3854 C             1 RES     \\n     130 C          -53.3746   -13.2402   -19.3878 C             1 RES     \\n     131 C          -52.0417   -13.4949   -19.6998 C             1 RES     \\n     132 C          -51.2129   -14.0909   -18.7538 C             1 RES     \\n     133 C          -46.4029   -10.0527   -14.4567 C             1 RES     \\n     134 C          -45.3895    -9.0994   -14.4741 C             1 RES     \\n     135 C          -44.1058    -9.4673   -14.8605 C             1 RES     \\n     136 C          -38.3185   -10.7061   -10.0992 C             1 RES     \\n     137 C          -37.6038   -10.2074    -9.0148 C             1 RES     \\n     138 C          -36.6972    -9.1715    -9.2072 C             1 RES     \\n     139 C          -29.1543   -10.0314    -9.5262 C             1 RES     \\n     140 C          -28.0373   -10.5873    -8.9113 C             1 RES     \\n     141 C          -27.5105    -9.9882    -7.7748 C             1 RES     \\n     142 C          -21.4175    -5.5157    -8.3172 C             1 RES     \\n     143 C          -20.1230    -5.4145    -8.8191 C             1 RES     \\n     144 C          -19.0873    -6.1098    -8.2020 C             1 RES     \\n     145 C          -14.1740    -2.8988    -3.3907 C             1 RES     \\n     146 C          -13.3156    -1.8195    -3.2079 C             1 RES     \\n     147 C          -12.0776    -1.8126    -3.8392 C             1 RES     \\n     148 C           -5.4801    -3.3804    -0.4115 C             1 RES     \\n     149 C           -4.6693    -3.1027     0.6847 C             1 RES     \\n     150 C           -3.9570    -1.9095     0.7291 C             1 RES     \\n     151 H            2.4428    -0.3663     0.0315 H             1 RES     \\n     152 H            1.5381     1.9441    -0.0357 H             1 RES     \\n     153 H           -0.9152     2.3225     0.0651 H             1 RES     \\n     154 H           -1.5074    -1.9664    -0.0876 H             1 RES     \\n     155 H            0.9001    -2.3057     0.0152 H             1 RES     \\n     156 H           -4.8092    -0.6362    -2.3255 H             1 RES     \\n     157 H           -5.3967    -2.7106    -4.2009 H             1 RES     \\n     158 H           -7.2768    -2.5967    -5.8050 H             1 RES     \\n     159 H          -10.0569    -2.6668    -2.4807 H             1 RES     \\n     160 H           -8.2106    -2.5645    -0.9336 H             1 RES     \\n     161 H          -12.1938    -4.8843    -5.3364 H             1 RES     \\n     162 H          -13.8991    -6.7168    -3.8824 H             1 RES     \\n     163 H          -15.5108    -8.2498    -4.9695 H             1 RES     \\n     164 H          -17.7184    -4.8197    -6.4334 H             1 RES     \\n     165 H          -16.0292    -3.3516    -5.5426 H             1 RES     \\n     166 H          -20.8206    -7.4934    -5.6039 H             1 RES     \\n     167 H          -23.0450    -5.9080    -4.8445 H             1 RES     \\n     168 H          -25.2471    -6.8684    -4.2513 H             1 RES     \\n     169 H          -25.6676    -8.2850    -8.3268 H             1 RES     \\n     170 H          -23.4362    -7.5282    -8.8238 H             1 RES     \\n     171 H          -29.5823    -7.2767    -7.5551 H             1 RES     \\n     172 H          -30.5632    -6.5048   -10.1325 H             1 RES     \\n     173 H          -32.8993    -5.8150   -10.5655 H             1 RES     \\n     174 H          -34.2202    -9.8177    -9.5582 H             1 RES     \\n     175 H          -31.9651   -10.4069    -8.9398 H             1 RES     \\n     176 H          -36.9437    -8.8345   -12.6000 H             1 RES     \\n     177 H          -37.6905   -11.3226   -13.8425 H             1 RES     \\n     178 H          -39.3347   -11.4988   -15.6834 H             1 RES     \\n     179 H          -42.4255   -10.0775   -12.9982 H             1 RES     \\n     180 H          -40.7698    -9.7149   -11.2837 H             1 RES     \\n     181 H          -44.6013   -12.8161   -15.3302 H             1 RES     \\n     182 H          -46.7223   -13.8135   -13.6802 H             1 RES     \\n     183 H          -48.4170   -15.4280   -14.4831 H             1 RES     \\n     184 H          -49.8636   -12.4501   -17.2800 H             1 RES     \\n     185 H          -48.0784   -10.9678   -16.6266 H             1 RES     \\n     186 H          -53.4091   -14.2940   -16.1455 H             1 RES     \\n     187 H          -55.3578   -12.2464   -16.2361 H             1 RES     \\n     188 H          -57.7461   -12.6228   -15.7090 H             1 RES     \\n     189 H          -58.0480   -15.2006   -19.1818 H             1 RES     \\n     190 H          -55.6789   -14.9890   -19.5505 H             1 RES     \\n     191 H          -61.7509   -13.4657   -19.3739 H             1 RES     \\n     192 H          -62.2619   -13.4939   -22.2088 H             1 RES     \\n     193 H          -64.3602   -12.7046   -23.2557 H             1 RES     \\n     194 H          -66.5000   -15.9125   -21.2788 H             1 RES     \\n     195 H          -64.4869   -16.5330   -20.1053 H             1 RES     \\n     196 H          -68.6182   -15.7012   -24.9069 H             1 RES     \\n     197 H          -69.7234   -18.3796   -25.3660 H             1 RES     \\n     198 H          -71.2056   -18.9890   -27.2534 H             1 RES     \\n     199 H          -74.1837   -16.2211   -25.7546 H             1 RES     \\n     200 H          -72.6442   -15.4912   -24.0480 H             1 RES     \\n     201 H          -76.6528   -19.2875   -27.2352 H             1 RES     \\n     202 H          -78.8338   -18.1196   -27.4022 H             1 RES     \\n     203 H          -78.9107   -15.6617   -27.7141 H             1 RES     \\n     204 H          -76.8151   -14.3854   -28.0839 H             1 RES     \\n     205 H          -74.6435   -15.5651   -28.1453 H             1 RES     \\n     206 H          -71.4929   -16.9288   -21.9312 H             1 RES     \\n     207 H          -70.3086   -15.6091   -20.2188 H             1 RES     \\n     208 H          -68.3493   -14.2387   -20.8497 H             1 RES     \\n     209 H          -62.0092   -17.4489   -21.0218 H             1 RES     \\n     210 H          -60.3819   -18.2588   -19.3539 H             1 RES     \\n     211 H          -59.5031   -16.7172   -17.6337 H             1 RES     \\n     212 H          -54.0295   -12.8132   -20.1463 H             1 RES     \\n     213 H          -51.6674   -13.2652   -20.6937 H             1 RES     \\n     214 H          -50.1831   -14.3239   -19.0147 H             1 RES     \\n     215 H          -47.4184    -9.7467   -14.2083 H             1 RES     \\n     216 H          -45.6160    -8.0638   -14.2372 H             1 RES     \\n     217 H          -43.3280    -8.7099   -14.9218 H             1 RES     \\n     218 H          -39.0667   -11.4803    -9.9337 H             1 RES     \\n     219 H          -37.7933   -10.5932    -8.0173 H             1 RES     \\n     220 H          -36.1765    -8.7503    -8.3505 H             1 RES     \\n     221 H          -29.5856   -10.5285   -10.3941 H             1 RES     \\n     222 H          -27.6039   -11.5053    -9.2970 H             1 RES     \\n     223 H          -26.6574   -10.4411    -7.2748 H             1 RES     \\n     224 H          -22.2322    -5.0096    -8.8335 H             1 RES     \\n     225 H          -19.9364    -4.8314    -9.7167 H             1 RES     \\n     226 H          -18.0860    -6.0636    -8.6238 H             1 RES     \\n     227 H          -15.1663    -2.8715    -2.9420 H             1 RES     \\n     228 H          -13.6364    -0.9657    -2.6181 H             1 RES     \\n     229 H          -11.4289    -0.9461    -3.7347 H             1 RES     \\n     230 H           -6.0762    -4.2921    -0.4165 H             1 RES     \\n     231 H           -4.6345    -3.7942     1.5216 H             1 RES     \\n     232 H           -3.3630    -1.6727     1.6085 H             1 RES     \\n@<TRIPOS>BOND\\n       1       70       67 1\\n       2       92       91 1\\n       3      179       65 1\\n       4       21       19 1\\n       5       49       48 1\\n       6      152        2 1\\n       7      196      107 1\\n       8      137      138 1\\n       9      222      140 1\\n      10      198      111 1\\n      11      141       46 1\\n      12       24       25 1\\n      13       49       54 1\\n      14       26       27 1\\n      15      142      143 1\\n      16       74       73 1\\n      17      208      126 1\\n      18      157       14 1\\n      19       17       16 1\\n      20      156       11 1\\n      21      109      110 1\\n      22      216      134 1\\n      23      184       77 1\\n      24      220      138 1\\n      25       86       85 1\\n      26      151        1 1\\n      27       82       83 1\\n      28      171       47 1\\n      29      109      108 1\\n      30       55       56 1\\n      31       63       64 1\\n      32      139       48 1\\n      33        7        8 1\\n      34        5        6 1\\n      35       17       18 1\\n      36      113      114 1\\n      37      201      119 1\\n      38      232      150 1\\n      39      202      120 1\\n      40      223      141 1\\n      41       79       80 1\\n      42      101      100 1\\n      43       28       31 1\\n      44       97      102 1\\n      45      145       24 1\\n      46       95       94 1\\n      47      227      145 1\\n      48       43       45 1\\n      49      121      122 1\\n      50       91       94 1\\n      51      115      116 1\\n      52       50       51 1\\n      53       13       14 1\\n      54        6        1 1\\n      55      163       27 1\\n      56      132       82 1\\n      57       99      100 1\\n      58      136      137 1\\n      59      189       89 1\\n      60       64       67 1\\n      61       96       95 1\\n      62      226      144 1\\n      63       90       85 1\\n      64      169       41 1\\n      65       60      136 1\\n      66      127       96 1\\n      67      180       66 1\\n      68      139      140 1\\n      69      203      121 1\\n      70       85       84 1\\n      71        4        3 1\\n      72       25       26 1\\n      73       29       30 1\\n      74       49       50 1\\n      75      109      114 1\\n      76       39       40 1\\n      77      211      129 1\\n      78        7       10 1\\n      79      228      146 1\\n      80      221      139 1\\n      81       89       88 1\\n      82       78       73 1\\n      83      147       22 1\\n      84      181       71 1\\n      85      182       74 1\\n      86       58      138 1\\n      87      126      106 1\\n      88      160       18 1\\n      89      186       83 1\\n      90      225      143 1\\n      91       31       34 1\\n      92       42       41 1\\n      93       47       46 1\\n      94      204      122 1\\n      95      111      112 1\\n      96       72       73 1\\n      97      188       87 1\\n      98       40       41 1\\n      99      194      101 1\\n     100       54      175 1\\n     101       75       74 1\\n     102      212      130 1\\n     103       53      174 1\\n     104      115      112 1\\n     105       31       32 1\\n     106       51       52 1\\n     107       15       16 1\\n     108        4        7 1\\n     109      101      102 1\\n     110      148       12 1\\n     111      159       17 1\\n     112      122      123 1\\n     113       66       65 1\\n     114      190       90 1\\n     115      149      150 1\\n     116       91       88 1\\n     117      231      149 1\\n     118      167       38 1\\n     119      166       35 1\\n     120      150       10 1\\n     121       25       30 1\\n     122      127      128 1\\n     123       28       29 1\\n     124       37       36 1\\n     125      142       36 1\\n     126      120      119 1\\n     127      230      148 1\\n     128      105      103 1\\n     129       10       11 1\\n     130       15       14 1\\n     131      161       23 1\\n     132      124      108 1\\n     133       37       42 1\\n     134      195      102 1\\n     135      183       75 1\\n     136      112      113 1\\n     137       61       66 1\\n     138       38       39 1\\n     139       99       98 1\\n     140      135       70 1\\n     141      192       98 1\\n     142      145      146 1\\n     143      133       72 1\\n     144      153        3 1\\n     145      229      147 1\\n     146      214      132 1\\n     147       60       61 1\\n     148       69       67 1\\n     149       62       63 1\\n     150      162       26 1\\n     151      134      135 1\\n     152       55       57 1\\n     153       11       12 1\\n     154       44       43 1\\n     155      103      100 1\\n     156      111      110 1\\n     157       51      173 1\\n     158       87       86 1\\n     159       89       90 1\\n     160      197      110 1\\n     161        4        5 1\\n     162      168       39 1\\n     163      200      114 1\\n     164      170       42 1\\n     165       27       28 1\\n     166      130       84 1\\n     167      213      131 1\\n     168      215      133 1\\n     169      115      118 1\\n     170      155        6 1\\n     171       63      178 1\\n     172      107      106 1\\n     173      164       29 1\\n     174       35       36 1\\n     175       93       91 1\\n     176       19       20 1\\n     177        2        1 1\\n     178      119      118 1\\n     179      219      137 1\\n     180      103      104 1\\n     181       50      172 1\\n     182       58       59 1\\n     183       71       72 1\\n     184       13       18 1\\n     185      148      149 1\\n     186       55       58 1\\n     187      128      129 1\\n     188      193       99 1\\n     189      131      132 1\\n     190       97       96 1\\n     191       68       67 1\\n     192      158       15 1\\n     193      120      121 1\\n     194       61       62 1\\n     195       77       78 1\\n     196       81       79 1\\n     197        2        3 1\\n     198       43       40 1\\n     199       76       77 1\\n     200      206      124 1\\n     201       59      176 1\\n     202       64       65 1\\n     203      125      126 1\\n     204       52       53 1\\n     205      154        5 1\\n     206      130      131 1\\n     207      165       30 1\\n     208       98       97 1\\n     209       70       71 1\\n     210       31       33 1\\n     211      146      147 1\\n     212      106      103 1\\n     213       37       38 1\\n     214       13       12 1\\n     215       23       22 1\\n     216      207      125 1\\n     217      205      123 1\\n     218       23       24 1\\n     219       59       60 1\\n     220       47       48 1\\n     221        7        9 1\\n     222      144       34 1\\n     223      224      142 1\\n     224      210      128 1\\n     225       79       76 1\\n     226       16       19 1\\n     227       52       55 1\\n     228       76       75 1\\n     229      123      118 1\\n     230      185       78 1\\n     231      107      108 1\\n     232      133      134 1\\n     233      218      136 1\\n     234       62      177 1\\n     235       82       79 1\\n     236       87       88 1\\n     237       22       19 1\\n     238       35       34 1\\n     239      117      115 1\\n     240      140      141 1\\n     241      187       86 1\\n     242       84       83 1\\n     243      191       95 1\\n     244      129       94 1\\n     245      143      144 1\\n     246      209      127 1\\n     247      124      125 1\\n     248       53       54 1\\n     249      199      113 1\\n     250       46       43 1\\n     251      217      135 1\\n@<TRIPOS>SUBSTRUCTURE\\n       1 RES             1 RESIDUE    0 **** ROOT      0\\n\",\"mol2\");\n",
       "\tviewer_15834363896255083.setStyle({\"stick\": {\"radius\": 0.2, \"color\": \"grey\"}, \"sphere\": {\"scale\": 0.3, \"colorscheme\": {}}});\n",
       "\tviewer_15834363896255083.zoomTo();\n",
       "viewer_15834363896255083.render();\n",
       "});\n",
       "</script>"
      ]
     },
     "metadata": {},
     "output_type": "display_data"
    },
    {
     "data": {
      "text/plain": [
       "(< 232 particles, non-periodic, 251 bonds, id: 139919142772688>,\n",
       " 'c1ccc(cc1)S(=O)(=O)c%20cc(c2ccc(cc2)S(=O)(=O)c%19cc(c3ccc(cc3)S(=O)(=O)c%18cc(c4ccc(cc4)S(=O)(=O)c%17cc(c5ccc(cc5)S(=O)(=O)c%16cc(c6ccc(cc6)S(=O)(=O)c%15cc(c7ccc(cc7)S(=O)(=O)c%14cc(c8ccc(cc8)S(=O)(=O)c%13cc(c9ccc(cc9)S(=O)(=O)c%12cc(c%10ccc(cc%10)S(=O)(=O)c%11ccccc%11)ccc%12)ccc%13)ccc%14)ccc%15)ccc%16)ccc%17)ccc%18)ccc%19)ccc%20')"
      ]
     },
     "execution_count": 35,
     "metadata": {},
     "output_type": "execute_result"
    }
   ],
   "source": [
    "poly_smiles('cccccc6))S=O)=O)cc*c*ccc6))',length=10, string_only = False, visualize=True, save=True)"
   ]
  },
  {
   "cell_type": "code",
   "execution_count": 34,
   "metadata": {},
   "outputs": [
    {
     "name": "stderr",
     "output_type": "stream",
     "text": [
      "/home/chris/cme/mbuild/mbuild/compound.py:2749: UserWarning: No unitcell detected for pybel.Molecule Oc1ccc(cc1)S(=O)(=O)c1cc(c2ccc(cc2)S(=O)(=O)c2cc(c3ccc(cc3)S(=O)(=O)c3cc(c4ccc(cc4)S(=O)(=O)c4cc(c5ccc(cc5)S(=O)(=O)c5cc(c6ccc(cc6)S(=O)(=O)c6cc(c7ccc(cc7)S(=O)(=O)c7cc(c8ccc(cc8)S(=O)(=O)c8cc(c9ccc(cc9)S(=O)(=O)c9cc(c%10ccc(cc%10)S(=O)(=O)c%10ccccc%10)ccc9)ccc8)ccc7)ccc6)ccc5)ccc4)ccc3)ccc2)ccc1O\t\n",
      "\n",
      "  warn(\"No unitcell detected for pybel.Molecule {}\".format(pybel_mol))\n"
     ]
    },
    {
     "data": {
      "application/3dmoljs_load.v0": "<div id=\"3dmolviewer_15834363404104624\"  style=\"position: relative; width: 640px; height: 480px\">\n        <p id=\"3dmolwarning_15834363404104624\" style=\"background-color:#ffcccc;color:black\">You appear to be running in JupyterLab (or JavaScript failed to load for some other reason).  You need to install the 3dmol extension: <br>\n        <tt>jupyter labextension install jupyterlab_3dmol</tt></p>\n        </div>\n<script>\n\nvar loadScriptAsync = function(uri){\n  return new Promise((resolve, reject) => {\n    var tag = document.createElement('script');\n    tag.src = uri;\n    tag.async = true;\n    tag.onload = () => {\n      resolve();\n    };\n  var firstScriptTag = document.getElementsByTagName('script')[0];\n  firstScriptTag.parentNode.insertBefore(tag, firstScriptTag);\n});\n};\n\nif(typeof $3Dmolpromise === 'undefined') {\n$3Dmolpromise = null;\n  $3Dmolpromise = loadScriptAsync('https://3dmol.csb.pitt.edu/build/3Dmol.js');\n}\n\nvar viewer_15834363404104624 = null;\nvar warn = document.getElementById(\"3dmolwarning_15834363404104624\");\nif(warn) {\n    warn.parentNode.removeChild(warn);\n}\n$3Dmolpromise.then(function() {\nviewer_15834363404104624 = $3Dmol.createViewer($(\"#3dmolviewer_15834363404104624\"),{backgroundColor:\"white\"});\n\tviewer_15834363404104624.addModel(\"@<TRIPOS>MOLECULE\\nRES\\n234 253 1 0 1\\nSMALL\\nNO_CHARGES\\n@<TRIPOS>CRYSIN\\n   66.6588    60.1817    44.8224    90.0000    90.0000    90.0000  1  1\\n@<TRIPOS>ATOM\\n       1 O            2.2509     0.0043     0.0060 O             1 RES     \\n       2 C            0.8885    -0.0307     0.0144 C             1 RES     \\n       3 C            0.1646    -1.2220     0.0096 C             1 RES     \\n       4 C           -1.2389    -1.1806    -0.0081 C             1 RES     \\n       5 C           -1.8966     0.0575    -0.0112 C             1 RES     \\n       6 C           -1.1539     1.2391     0.0361 C             1 RES     \\n       7 C            0.2369     1.1935     0.0310 C             1 RES     \\n       8 S           -3.6836     0.1081    -0.0672 S             1 RES     \\n       9 O           -4.1051    -0.5147    -1.3096 O             1 RES     \\n      10 O           -4.1186    -0.4508     1.2029 O             1 RES     \\n      11 C           -4.2464     1.8040    -0.1024 C             1 RES     \\n      12 C           -5.0289     2.2917     0.9529 C             1 RES     \\n      13 C           -5.4356     3.6393     0.9863 C             1 RES     \\n      14 C           -6.3081     4.1172     2.0658 C             1 RES     \\n      15 C           -5.9519     3.9594     3.4155 C             1 RES     \\n      16 C           -6.8638     4.2403     4.4363 C             1 RES     \\n      17 C           -8.1067     4.7884     4.1134 C             1 RES     \\n      18 C           -8.4583     5.0011     2.7807 C             1 RES     \\n      19 C           -7.5661     4.6592     1.7666 C             1 RES     \\n      20 S           -9.1745     5.2907     5.4415 S             1 RES     \\n      21 O           -9.5900     4.0814     6.1356 O             1 RES     \\n      22 O           -8.4645     6.3412     6.1415 O             1 RES     \\n      23 C          -10.6588     6.0084     4.7690 C             1 RES     \\n      24 C          -11.0029     7.3224     5.0797 C             1 RES     \\n      25 C          -12.2537     7.8260     4.6829 C             1 RES     \\n      26 C          -12.7557     9.0569     5.2934 C             1 RES     \\n      27 C          -12.0124    10.2417     5.2515 C             1 RES     \\n      28 C          -12.3694    11.3275     6.0480 C             1 RES     \\n      29 C          -13.5440    11.2718     6.8029 C             1 RES     \\n      30 C          -14.3256    10.1176     6.8176 C             1 RES     \\n      31 C          -13.9243     9.0138     6.0736 C             1 RES     \\n      32 S          -14.0485    12.7418     7.6581 S             1 RES     \\n      33 O          -13.0591    12.9879     8.6953 O             1 RES     \\n      34 O          -14.3048    13.7263     6.6268 O             1 RES     \\n      35 C          -15.5850    12.4401     8.5029 C             1 RES     \\n      36 C          -16.7095    13.2177     8.2232 C             1 RES     \\n      37 C          -17.8505    13.0886     9.0308 C             1 RES     \\n      38 C          -18.8882    14.1193     9.0105 C             1 RES     \\n      39 C          -19.6087    14.4332     7.8538 C             1 RES     \\n      40 C          -20.4759    15.5278     7.8384 C             1 RES     \\n      41 C          -20.7018    16.2486     9.0158 C             1 RES     \\n      42 C          -20.0096    15.9337    10.1827 C             1 RES     \\n      43 C          -19.0992    14.8850    10.1709 C             1 RES     \\n      44 S          -21.9510    17.5104     9.0007 S             1 RES     \\n      45 O          -21.4843    18.5519     8.1011 O             1 RES     \\n      46 O          -23.2041    16.8231     8.7581 O             1 RES     \\n      47 C          -22.0584    18.2675    10.6093 C             1 RES     \\n      48 C          -23.2685    18.3028    11.3045 C             1 RES     \\n      49 C          -23.3721    19.0980    12.4588 C             1 RES     \\n      50 C          -24.6870    19.4581    12.9912 C             1 RES     \\n      51 C          -25.5993    18.4966    13.4372 C             1 RES     \\n      52 C          -26.9016    18.8642    13.7822 C             1 RES     \\n      53 C          -27.2619    20.2152    13.7815 C             1 RES     \\n      54 C          -26.3561    21.1893    13.3663 C             1 RES     \\n      55 C          -25.0831    20.8072    12.9620 C             1 RES     \\n      56 S          -28.8652    20.6582    14.4052 S             1 RES     \\n      57 O          -29.8443    20.0972    13.4890 O             1 RES     \\n      58 O          -28.8606    20.2913    15.8072 O             1 RES     \\n      59 C          -29.0590    22.4253    14.3122 C             1 RES     \\n      60 C          -29.3024    23.1822    15.4574 C             1 RES     \\n      61 C          -29.6096    24.5497    15.3301 C             1 RES     \\n      62 C          -30.2136    25.2616    16.4582 C             1 RES     \\n      63 C          -29.6012    25.2886    17.7158 C             1 RES     \\n      64 C          -30.3071    25.7266    18.8351 C             1 RES     \\n      65 C          -31.5923    26.2529    18.6783 C             1 RES     \\n      66 C          -32.1962    26.2910    17.4230 C             1 RES     \\n      67 C          -31.5105    25.7888    16.3228 C             1 RES     \\n      68 S          -32.3828    26.9506    20.1043 S             1 RES     \\n      69 O          -32.6442    25.8542    21.0238 O             1 RES     \\n      70 O          -31.5546    28.0709    20.5005 O             1 RES     \\n      71 C          -33.9739    27.5992    19.6430 C             1 RES     \\n      72 C          -34.2630    28.9483    19.8382 C             1 RES     \\n      73 C          -35.5748    29.4114    19.6402 C             1 RES     \\n      74 C          -35.9656    30.7133    20.1809 C             1 RES     \\n      75 C          -35.2771    31.8823    19.8391 C             1 RES     \\n      76 C          -35.4957    33.0626    20.5476 C             1 RES     \\n      77 C          -36.4915    33.1046    21.5276 C             1 RES     \\n      78 C          -37.2219    31.9616    21.8478 C             1 RES     \\n      79 C          -36.9498    30.7717    21.1831 C             1 RES     \\n      80 S          -36.8543    34.6715    22.2762 S             1 RES     \\n      81 O          -35.6836    35.0510    23.0513 O             1 RES     \\n      82 O          -37.3411    35.5148    21.2037 O             1 RES     \\n      83 C          -38.1802    34.4777    23.4473 C             1 RES     \\n      84 C          -39.3599    35.2095    23.3062 C             1 RES     \\n      85 C          -40.3115    35.1822    24.3381 C             1 RES     \\n      86 C          -41.3612    36.1988    24.3987 C             1 RES     \\n      87 C          -42.3066    36.3575    23.3809 C             1 RES     \\n      88 C          -43.1871    37.4402    23.4017 C             1 RES     \\n      89 C          -43.1892    38.3108    24.4974 C             1 RES     \\n      90 C          -42.2729    38.1506    25.5327 C             1 RES     \\n      91 C          -41.3571    37.1086    25.4716 C             1 RES     \\n      92 S          -44.4513    39.5531    24.5718 S             1 RES     \\n      93 O          -44.1931    40.4818    23.4830 O             1 RES     \\n      94 O          -45.7047    38.8300    24.6491 O             1 RES     \\n      95 C          -44.2937    40.5011    26.0715 C             1 RES     \\n      96 C          -45.3801    40.6109    26.9391 C             1 RES     \\n      97 C          -45.3389    41.5536    27.9781 C             1 RES     \\n      98 C          -46.5772    41.9538    28.6444 C             1 RES     \\n      99 C          -47.3792    41.0347    29.3282 C             1 RES     \\n     100 C          -48.6393    41.4094    29.7945 C             1 RES     \\n     101 C          -49.0564    42.7379    29.6658 C             1 RES     \\n     102 C          -48.2574    43.6736    29.0127 C             1 RES     \\n     103 C          -47.0320    43.2759    28.4941 C             1 RES     \\n     104 S          -50.5768    43.2137    30.4448 S             1 RES     \\n     105 O          -51.6476    42.5262    29.7398 O             1 RES     \\n     106 O          -50.3695    43.0084    31.8634 O             1 RES     \\n     107 C          -50.8544    44.9536    30.1926 C             1 RES     \\n     108 C          -50.9846    45.8050    31.2875 C             1 RES     \\n     109 C          -51.3863    47.1373    31.0883 C             1 RES     \\n     110 C          -51.8839    47.9082    32.2286 C             1 RES     \\n     111 C          -51.1233    48.0570    33.3936 C             1 RES     \\n     112 C          -51.7124    48.5329    34.5635 C             1 RES     \\n     113 C          -53.0382    48.9766    34.5392 C             1 RES     \\n     114 C          -53.7937    48.8921    33.3714 C             1 RES     \\n     115 C          -53.2185    48.3514    32.2266 C             1 RES     \\n     116 S          -53.6849    49.7289    36.0108 S             1 RES     \\n     117 O          -53.7532    48.6854    37.0213 O             1 RES     \\n     118 O          -52.8825    50.9169    36.2228 O             1 RES     \\n     119 C          -55.3600    50.2614    35.7359 C             1 RES     \\n     120 C          -55.7068    51.6062    35.8859 C             1 RES     \\n     121 C          -57.0502    51.9741    35.7984 C             1 RES     \\n     122 C          -58.0190    51.0245    35.4658 C             1 RES     \\n     123 C          -57.6594    49.6913    35.2717 C             1 RES     \\n     124 C          -56.3332    49.3011    35.4363 C             1 RES     \\n     125 C          -51.4902    47.6309    29.7800 C             1 RES     \\n     126 C          -51.3106    46.7850    28.6876 C             1 RES     \\n     127 C          -51.0322    45.4367    28.8932 C             1 RES     \\n     128 C          -44.1440    42.2446    28.2306 C             1 RES     \\n     129 C          -43.0399    42.0816    27.3988 C             1 RES     \\n     130 C          -43.1262    41.2385    26.2953 C             1 RES     \\n     131 C          -40.1331    34.2958    25.4125 C             1 RES     \\n     132 C          -38.9743    33.5334    25.5222 C             1 RES     \\n     133 C          -37.9788    33.6534    24.5596 C             1 RES     \\n     134 C          -36.5316    28.5427    19.0951 C             1 RES     \\n     135 C          -36.2221    27.2056    18.8579 C             1 RES     \\n     136 C          -34.9546    26.7231    19.1692 C             1 RES     \\n     137 C          -29.5078    25.1592    14.0703 C             1 RES     \\n     138 C          -29.2214    24.4025    12.9372 C             1 RES     \\n     139 C          -29.0380    23.0295    13.0523 C             1 RES     \\n     140 C          -22.2171    19.7036    12.9809 C             1 RES     \\n     141 C          -21.0010    19.6149    12.3113 C             1 RES     \\n     142 C          -20.9305    18.9298    11.1050 C             1 RES     \\n     143 C          -17.8954    12.0695     9.9962 C             1 RES     \\n     144 C          -16.7851    11.2661    10.2370 C             1 RES     \\n     145 C          -15.6152    11.4771     9.5171 C             1 RES     \\n     146 C          -13.0682     7.0509     3.8455 C             1 RES     \\n     147 C          -12.6979     5.7525     3.5021 C             1 RES     \\n     148 C          -11.5125     5.2157     3.9968 C             1 RES     \\n     149 C           -5.0352     4.4856    -0.0580 C             1 RES     \\n     150 C           -4.2557     4.0021    -1.1115 C             1 RES     \\n     151 C           -3.8765     2.6603    -1.1396 C             1 RES     \\n     152 O           -3.0894     2.2117    -2.1576 O             1 RES     \\n     153 H            2.5991    -0.9008    -0.0210 H             1 RES     \\n     154 H            0.6711    -2.1828     0.0161 H             1 RES     \\n     155 H           -1.8080    -2.1087    -0.0172 H             1 RES     \\n     156 H           -1.6215     2.2143     0.0617 H             1 RES     \\n     157 H            0.8092     2.1163     0.0378 H             1 RES     \\n     158 H           -5.3430     1.6213     1.7531 H             1 RES     \\n     159 H           -4.9559     3.6069     3.6784 H             1 RES     \\n     160 H           -6.5997     4.0286     5.4709 H             1 RES     \\n     161 H           -9.4157     5.4137     2.4873 H             1 RES     \\n     162 H           -7.8725     4.8025     0.7319 H             1 RES     \\n     163 H          -10.3403     7.9344     5.6916 H             1 RES     \\n     164 H          -11.1348    10.3082     4.6125 H             1 RES     \\n     165 H          -11.7265    12.2044     6.0796 H             1 RES     \\n     166 H          -15.2323    10.0266     7.4037 H             1 RES     \\n     167 H          -14.5171     8.1012     6.1334 H             1 RES     \\n     168 H          -16.6782    13.9748     7.4402 H             1 RES     \\n     169 H          -19.4947    13.8239     6.9601 H             1 RES     \\n     170 H          -20.9717    15.8084     6.9115 H             1 RES     \\n     171 H          -20.1370    16.4753    11.1119 H             1 RES     \\n     172 H          -18.5390    14.6710    11.0811 H             1 RES     \\n     173 H          -24.1481    17.7919    10.9136 H             1 RES     \\n     174 H          -25.2956    17.4552    13.5146 H             1 RES     \\n     175 H          -27.6241    18.0967    14.0512 H             1 RES     \\n     176 H          -26.5963    22.2451    13.3311 H             1 RES     \\n     177 H          -24.3967    21.5762    12.6075 H             1 RES     \\n     178 H          -29.3307    22.7065    16.4379 H             1 RES     \\n     179 H          -28.5769    24.9406    17.8279 H             1 RES     \\n     180 H          -29.8547    25.6453    19.8210 H             1 RES     \\n     181 H          -33.1959    26.6757    17.2606 H             1 RES     \\n     182 H          -32.0144    25.7788    15.3565 H             1 RES     \\n     183 H          -33.4986    29.6257    20.2186 H             1 RES     \\n     184 H          -34.5496    31.8665    19.0307 H             1 RES     \\n     185 H          -34.8850    33.9374    20.3355 H             1 RES     \\n     186 H          -37.9888    31.9458    22.6128 H             1 RES     \\n     187 H          -37.4942    29.8745    21.4770 H             1 RES     \\n     188 H          -39.5083    35.8594    22.4443 H             1 RES     \\n     189 H          -42.3576    35.6371    22.5677 H             1 RES     \\n     190 H          -43.8684    37.5959    22.5676 H             1 RES     \\n     191 H          -42.2298    38.8084    26.3919 H             1 RES     \\n     192 H          -40.6216    37.0140    26.2703 H             1 RES     \\n     193 H          -46.2905    40.0397    26.7589 H             1 RES     \\n     194 H          -47.0235    40.0201    29.4923 H             1 RES     \\n     195 H          -49.2851    40.6659    30.2566 H             1 RES     \\n     196 H          -48.5484    44.7081    28.8768 H             1 RES     \\n     197 H          -46.4335    44.0071    27.9510 H             1 RES     \\n     198 H          -50.8589    45.4209    32.2998 H             1 RES     \\n     199 H          -50.0742    47.7695    33.3975 H             1 RES     \\n     200 H          -51.1382    48.5437    35.4874 H             1 RES     \\n     201 H          -54.8287    49.2072    33.3149 H             1 RES     \\n     202 H          -53.8367    48.2401    31.3360 H             1 RES     \\n     203 H          -54.9536    52.3641    36.0911 H             1 RES     \\n     204 H          -57.3485    52.9989    36.0074 H             1 RES     \\n     205 H          -59.0597    51.3239    35.3661 H             1 RES     \\n     206 H          -58.4160    48.9523    35.0204 H             1 RES     \\n     207 H          -56.0624    48.2540    35.3179 H             1 RES     \\n     208 H          -51.7621    48.6716    29.6110 H             1 RES     \\n     209 H          -51.4391    47.1688    27.6793 H             1 RES     \\n     210 H          -50.9432    44.7703    28.0387 H             1 RES     \\n     211 H          -44.0925    42.9552    29.0544 H             1 RES     \\n     212 H          -42.1373    42.6588    27.5796 H             1 RES     \\n     213 H          -42.2822    41.1637    25.6140 H             1 RES     \\n     214 H          -40.8847    34.2391    26.1987 H             1 RES     \\n     215 H          -38.8295    32.8883    26.3840 H             1 RES     \\n     216 H          -37.0529    33.0947    24.6744 H             1 RES     \\n     217 H          -37.5408    28.9007    18.8971 H             1 RES     \\n     218 H          -36.9852    26.5326    18.4772 H             1 RES     \\n     219 H          -34.7326    25.6679    19.0293 H             1 RES     \\n     220 H          -29.6996    26.2257    13.9634 H             1 RES     \\n     221 H          -29.1885    24.8761    11.9604 H             1 RES     \\n     222 H          -28.8604    22.4339    12.1600 H             1 RES     \\n     223 H          -22.2791    20.2948    13.8936 H             1 RES     \\n     224 H          -20.1264    20.1274    12.7009 H             1 RES     \\n     225 H          -19.9927    18.9107    10.5551 H             1 RES     \\n     226 H          -18.7905    11.9364    10.6024 H             1 RES     \\n     227 H          -16.8194    10.5143    11.0202 H             1 RES     \\n     228 H          -14.7331    10.8822     9.7424 H             1 RES     \\n     229 H          -14.0192     7.4471     3.4927 H             1 RES     \\n     230 H          -13.3580     5.1469     2.8874 H             1 RES     \\n     231 H          -11.2518     4.1857     3.7657 H             1 RES     \\n     232 H           -5.3313     5.5339    -0.0571 H             1 RES     \\n     233 H           -3.9471     4.6907    -1.8931 H             1 RES     \\n     234 H           -2.9350     2.9239    -2.8011 H             1 RES     \\n@<TRIPOS>BOND\\n       1      150      233 1\\n       2      177       55 1\\n       3       79      187 1\\n       4       29       28 1\\n       5      102      103 1\\n       6       56       59 1\\n       7      174       51 1\\n       8        3        2 1\\n       9       66      181 1\\n      10      129      130 1\\n      11       42       43 1\\n      12      116      118 1\\n      13       64       65 1\\n      14       44       45 1\\n      15       66       67 1\\n      16      108      198 1\\n      17       52       53 1\\n      18      107      108 1\\n      19       20       23 1\\n      20      133      216 1\\n      21      148      231 1\\n      22       92       94 1\\n      23      144      227 1\\n      24       85      131 1\\n      25       80       82 1\\n      26      101      104 1\\n      27        8       10 1\\n      28       74       79 1\\n      29       83       84 1\\n      30      138      139 1\\n      31       75       76 1\\n      32      140       49 1\\n      33      146      147 1\\n      34      175       52 1\\n      35      104      107 1\\n      36      119      124 1\\n      37      154        3 1\\n      38      137       61 1\\n      39      165       28 1\\n      40       68       71 1\\n      41       65       68 1\\n      42       63      179 1\\n      43      130      213 1\\n      44       38       37 1\\n      45       29       32 1\\n      46       67       62 1\\n      47      143      226 1\\n      48      147      230 1\\n      49       28       27 1\\n      50      149      150 1\\n      51       48       49 1\\n      52       86       87 1\\n      53       97       98 1\\n      54      101      102 1\\n      55      100      195 1\\n      56       64      180 1\\n      57      125      126 1\\n      58       39       38 1\\n      59       78      186 1\\n      60      104      105 1\\n      61       13       14 1\\n      62      120      121 1\\n      63      128      129 1\\n      64       65       66 1\\n      65      132      133 1\\n      66       73      134 1\\n      67       76      185 1\\n      68      149       13 1\\n      69       21       20 1\\n      70       84      188 1\\n      71      112      200 1\\n      72       11        8 1\\n      73       35       32 1\\n      74      126      209 1\\n      75      162       19 1\\n      76       99      194 1\\n      77      149      232 1\\n      78       95      130 1\\n      79      102      196 1\\n      80      119      120 1\\n      81       56       57 1\\n      82       12       13 1\\n      83      156        6 1\\n      84       31       26 1\\n      85      132      215 1\\n      86      128      211 1\\n      87       16       15 1\\n      88       75      184 1\\n      89       96      193 1\\n      90      150      151 1\\n      91       87       88 1\\n      92       71       72 1\\n      93       86       91 1\\n      94      152      234 1\\n      95      134      135 1\\n      96       67      182 1\\n      97      164       27 1\\n      98       31       30 1\\n      99      148       23 1\\n     100       51       52 1\\n     101      114      115 1\\n     102       44       46 1\\n     103      160       16 1\\n     104      131      132 1\\n     105       92       93 1\\n     106       68       69 1\\n     107        4        3 1\\n     108      127      210 1\\n     109      131      214 1\\n     110      155        4 1\\n     111      151       11 1\\n     112        6        7 1\\n     113      111      199 1\\n     114       98      103 1\\n     115       61       62 1\\n     116      143       37 1\\n     117      100      101 1\\n     118      103      197 1\\n     119       53       56 1\\n     120      116      119 1\\n     121      120      203 1\\n     122      142      225 1\\n     123       90      191 1\\n     124       25       24 1\\n     125      110      111 1\\n     126      168       36 1\\n     127      145      228 1\\n     128      137      220 1\\n     129       80       81 1\\n     130      143      144 1\\n     131      159       15 1\\n     132       99      100 1\\n     133      123      124 1\\n     134       60       61 1\\n     135      161       18 1\\n     136       41       44 1\\n     137      109      125 1\\n     138       16       17 1\\n     139      173       48 1\\n     140        5        8 1\\n     141      113      116 1\\n     142      136      219 1\\n     143       87      189 1\\n     144       68       70 1\\n     145      166       30 1\\n     146       92       95 1\\n     147       22       20 1\\n     148       36       37 1\\n     149        5        6 1\\n     150      138      221 1\\n     151      124      207 1\\n     152       80       83 1\\n     153        2        7 1\\n     154       43       38 1\\n     155      178       60 1\\n     156       32       34 1\\n     157      176       54 1\\n     158      158       12 1\\n     159      122      123 1\\n     160       59       60 1\\n     161       96       97 1\\n     162      115      202 1\\n     163      104      106 1\\n     164       27       26 1\\n     165       78       79 1\\n     166      141      142 1\\n     167      171       42 1\\n     168       97      128 1\\n     169      113      114 1\\n     170      135      218 1\\n     171       50       51 1\\n     172       54       55 1\\n     173       17       20 1\\n     174       14       19 1\\n     175      157        7 1\\n     176       83      133 1\\n     177       40       39 1\\n     178       23       24 1\\n     179       49       50 1\\n     180      110      115 1\\n     181      112      113 1\\n     182      107      127 1\\n     183       63       62 1\\n     184      125      208 1\\n     185      123      206 1\\n     186       85       86 1\\n     187      144      145 1\\n     188       72      183 1\\n     189       36       35 1\\n     190      163       24 1\\n     191       18       17 1\\n     192       40       41 1\\n     193      139       59 1\\n     194      114      201 1\\n     195      134      217 1\\n     196      141      224 1\\n     197       48       47 1\\n     198       72       73 1\\n     199       74       75 1\\n     200       90       91 1\\n     201       88       89 1\\n     202      137      138 1\\n     203      167       31 1\\n     204      151      152 1\\n     205      135      136 1\\n     206      129      212 1\\n     207      111      112 1\\n     208       71      136 1\\n     209       95       96 1\\n     210      140      223 1\\n     211      146       25 1\\n     212      121      204 1\\n     213      126      127 1\\n     214       41       42 1\\n     215       56       58 1\\n     216       63       64 1\\n     217      172       43 1\\n     218       88      190 1\\n     219      142       47 1\\n     220       50       55 1\\n     221        4        5 1\\n     222      146      229 1\\n     223       77       80 1\\n     224       89       92 1\\n     225        1        2 1\\n     226      169       39 1\\n     227       25       26 1\\n     228       91      192 1\\n     229       98       99 1\\n     230      170       40 1\\n     231      139      222 1\\n     232       76       77 1\\n     233       18       19 1\\n     234       84       85 1\\n     235        8        9 1\\n     236      147      148 1\\n     237       14       15 1\\n     238      109      110 1\\n     239      121      122 1\\n     240      122      205 1\\n     241       29       30 1\\n     242       44       47 1\\n     243      153        1 1\\n     244       32       33 1\\n     245       53       54 1\\n     246      108      109 1\\n     247      116      117 1\\n     248       11       12 1\\n     249       73       74 1\\n     250       77       78 1\\n     251       89       90 1\\n     252      140      141 1\\n     253      145       35 1\\n@<TRIPOS>SUBSTRUCTURE\\n       1 RES             1 RESIDUE    0 **** ROOT      0\\n\",\"mol2\");\n\tviewer_15834363404104624.setStyle({\"stick\": {\"radius\": 0.2, \"color\": \"grey\"}, \"sphere\": {\"scale\": 0.3, \"colorscheme\": {}}});\n\tviewer_15834363404104624.zoomTo();\nviewer_15834363404104624.render();\n});\n</script>",
      "text/html": [
       "<div id=\"3dmolviewer_15834363404104624\"  style=\"position: relative; width: 640px; height: 480px\">\n",
       "        <p id=\"3dmolwarning_15834363404104624\" style=\"background-color:#ffcccc;color:black\">You appear to be running in JupyterLab (or JavaScript failed to load for some other reason).  You need to install the 3dmol extension: <br>\n",
       "        <tt>jupyter labextension install jupyterlab_3dmol</tt></p>\n",
       "        </div>\n",
       "<script>\n",
       "\n",
       "var loadScriptAsync = function(uri){\n",
       "  return new Promise((resolve, reject) => {\n",
       "    var tag = document.createElement('script');\n",
       "    tag.src = uri;\n",
       "    tag.async = true;\n",
       "    tag.onload = () => {\n",
       "      resolve();\n",
       "    };\n",
       "  var firstScriptTag = document.getElementsByTagName('script')[0];\n",
       "  firstScriptTag.parentNode.insertBefore(tag, firstScriptTag);\n",
       "});\n",
       "};\n",
       "\n",
       "if(typeof $3Dmolpromise === 'undefined') {\n",
       "$3Dmolpromise = null;\n",
       "  $3Dmolpromise = loadScriptAsync('https://3dmol.csb.pitt.edu/build/3Dmol.js');\n",
       "}\n",
       "\n",
       "var viewer_15834363404104624 = null;\n",
       "var warn = document.getElementById(\"3dmolwarning_15834363404104624\");\n",
       "if(warn) {\n",
       "    warn.parentNode.removeChild(warn);\n",
       "}\n",
       "$3Dmolpromise.then(function() {\n",
       "viewer_15834363404104624 = $3Dmol.createViewer($(\"#3dmolviewer_15834363404104624\"),{backgroundColor:\"white\"});\n",
       "\tviewer_15834363404104624.addModel(\"@<TRIPOS>MOLECULE\\nRES\\n234 253 1 0 1\\nSMALL\\nNO_CHARGES\\n@<TRIPOS>CRYSIN\\n   66.6588    60.1817    44.8224    90.0000    90.0000    90.0000  1  1\\n@<TRIPOS>ATOM\\n       1 O            2.2509     0.0043     0.0060 O             1 RES     \\n       2 C            0.8885    -0.0307     0.0144 C             1 RES     \\n       3 C            0.1646    -1.2220     0.0096 C             1 RES     \\n       4 C           -1.2389    -1.1806    -0.0081 C             1 RES     \\n       5 C           -1.8966     0.0575    -0.0112 C             1 RES     \\n       6 C           -1.1539     1.2391     0.0361 C             1 RES     \\n       7 C            0.2369     1.1935     0.0310 C             1 RES     \\n       8 S           -3.6836     0.1081    -0.0672 S             1 RES     \\n       9 O           -4.1051    -0.5147    -1.3096 O             1 RES     \\n      10 O           -4.1186    -0.4508     1.2029 O             1 RES     \\n      11 C           -4.2464     1.8040    -0.1024 C             1 RES     \\n      12 C           -5.0289     2.2917     0.9529 C             1 RES     \\n      13 C           -5.4356     3.6393     0.9863 C             1 RES     \\n      14 C           -6.3081     4.1172     2.0658 C             1 RES     \\n      15 C           -5.9519     3.9594     3.4155 C             1 RES     \\n      16 C           -6.8638     4.2403     4.4363 C             1 RES     \\n      17 C           -8.1067     4.7884     4.1134 C             1 RES     \\n      18 C           -8.4583     5.0011     2.7807 C             1 RES     \\n      19 C           -7.5661     4.6592     1.7666 C             1 RES     \\n      20 S           -9.1745     5.2907     5.4415 S             1 RES     \\n      21 O           -9.5900     4.0814     6.1356 O             1 RES     \\n      22 O           -8.4645     6.3412     6.1415 O             1 RES     \\n      23 C          -10.6588     6.0084     4.7690 C             1 RES     \\n      24 C          -11.0029     7.3224     5.0797 C             1 RES     \\n      25 C          -12.2537     7.8260     4.6829 C             1 RES     \\n      26 C          -12.7557     9.0569     5.2934 C             1 RES     \\n      27 C          -12.0124    10.2417     5.2515 C             1 RES     \\n      28 C          -12.3694    11.3275     6.0480 C             1 RES     \\n      29 C          -13.5440    11.2718     6.8029 C             1 RES     \\n      30 C          -14.3256    10.1176     6.8176 C             1 RES     \\n      31 C          -13.9243     9.0138     6.0736 C             1 RES     \\n      32 S          -14.0485    12.7418     7.6581 S             1 RES     \\n      33 O          -13.0591    12.9879     8.6953 O             1 RES     \\n      34 O          -14.3048    13.7263     6.6268 O             1 RES     \\n      35 C          -15.5850    12.4401     8.5029 C             1 RES     \\n      36 C          -16.7095    13.2177     8.2232 C             1 RES     \\n      37 C          -17.8505    13.0886     9.0308 C             1 RES     \\n      38 C          -18.8882    14.1193     9.0105 C             1 RES     \\n      39 C          -19.6087    14.4332     7.8538 C             1 RES     \\n      40 C          -20.4759    15.5278     7.8384 C             1 RES     \\n      41 C          -20.7018    16.2486     9.0158 C             1 RES     \\n      42 C          -20.0096    15.9337    10.1827 C             1 RES     \\n      43 C          -19.0992    14.8850    10.1709 C             1 RES     \\n      44 S          -21.9510    17.5104     9.0007 S             1 RES     \\n      45 O          -21.4843    18.5519     8.1011 O             1 RES     \\n      46 O          -23.2041    16.8231     8.7581 O             1 RES     \\n      47 C          -22.0584    18.2675    10.6093 C             1 RES     \\n      48 C          -23.2685    18.3028    11.3045 C             1 RES     \\n      49 C          -23.3721    19.0980    12.4588 C             1 RES     \\n      50 C          -24.6870    19.4581    12.9912 C             1 RES     \\n      51 C          -25.5993    18.4966    13.4372 C             1 RES     \\n      52 C          -26.9016    18.8642    13.7822 C             1 RES     \\n      53 C          -27.2619    20.2152    13.7815 C             1 RES     \\n      54 C          -26.3561    21.1893    13.3663 C             1 RES     \\n      55 C          -25.0831    20.8072    12.9620 C             1 RES     \\n      56 S          -28.8652    20.6582    14.4052 S             1 RES     \\n      57 O          -29.8443    20.0972    13.4890 O             1 RES     \\n      58 O          -28.8606    20.2913    15.8072 O             1 RES     \\n      59 C          -29.0590    22.4253    14.3122 C             1 RES     \\n      60 C          -29.3024    23.1822    15.4574 C             1 RES     \\n      61 C          -29.6096    24.5497    15.3301 C             1 RES     \\n      62 C          -30.2136    25.2616    16.4582 C             1 RES     \\n      63 C          -29.6012    25.2886    17.7158 C             1 RES     \\n      64 C          -30.3071    25.7266    18.8351 C             1 RES     \\n      65 C          -31.5923    26.2529    18.6783 C             1 RES     \\n      66 C          -32.1962    26.2910    17.4230 C             1 RES     \\n      67 C          -31.5105    25.7888    16.3228 C             1 RES     \\n      68 S          -32.3828    26.9506    20.1043 S             1 RES     \\n      69 O          -32.6442    25.8542    21.0238 O             1 RES     \\n      70 O          -31.5546    28.0709    20.5005 O             1 RES     \\n      71 C          -33.9739    27.5992    19.6430 C             1 RES     \\n      72 C          -34.2630    28.9483    19.8382 C             1 RES     \\n      73 C          -35.5748    29.4114    19.6402 C             1 RES     \\n      74 C          -35.9656    30.7133    20.1809 C             1 RES     \\n      75 C          -35.2771    31.8823    19.8391 C             1 RES     \\n      76 C          -35.4957    33.0626    20.5476 C             1 RES     \\n      77 C          -36.4915    33.1046    21.5276 C             1 RES     \\n      78 C          -37.2219    31.9616    21.8478 C             1 RES     \\n      79 C          -36.9498    30.7717    21.1831 C             1 RES     \\n      80 S          -36.8543    34.6715    22.2762 S             1 RES     \\n      81 O          -35.6836    35.0510    23.0513 O             1 RES     \\n      82 O          -37.3411    35.5148    21.2037 O             1 RES     \\n      83 C          -38.1802    34.4777    23.4473 C             1 RES     \\n      84 C          -39.3599    35.2095    23.3062 C             1 RES     \\n      85 C          -40.3115    35.1822    24.3381 C             1 RES     \\n      86 C          -41.3612    36.1988    24.3987 C             1 RES     \\n      87 C          -42.3066    36.3575    23.3809 C             1 RES     \\n      88 C          -43.1871    37.4402    23.4017 C             1 RES     \\n      89 C          -43.1892    38.3108    24.4974 C             1 RES     \\n      90 C          -42.2729    38.1506    25.5327 C             1 RES     \\n      91 C          -41.3571    37.1086    25.4716 C             1 RES     \\n      92 S          -44.4513    39.5531    24.5718 S             1 RES     \\n      93 O          -44.1931    40.4818    23.4830 O             1 RES     \\n      94 O          -45.7047    38.8300    24.6491 O             1 RES     \\n      95 C          -44.2937    40.5011    26.0715 C             1 RES     \\n      96 C          -45.3801    40.6109    26.9391 C             1 RES     \\n      97 C          -45.3389    41.5536    27.9781 C             1 RES     \\n      98 C          -46.5772    41.9538    28.6444 C             1 RES     \\n      99 C          -47.3792    41.0347    29.3282 C             1 RES     \\n     100 C          -48.6393    41.4094    29.7945 C             1 RES     \\n     101 C          -49.0564    42.7379    29.6658 C             1 RES     \\n     102 C          -48.2574    43.6736    29.0127 C             1 RES     \\n     103 C          -47.0320    43.2759    28.4941 C             1 RES     \\n     104 S          -50.5768    43.2137    30.4448 S             1 RES     \\n     105 O          -51.6476    42.5262    29.7398 O             1 RES     \\n     106 O          -50.3695    43.0084    31.8634 O             1 RES     \\n     107 C          -50.8544    44.9536    30.1926 C             1 RES     \\n     108 C          -50.9846    45.8050    31.2875 C             1 RES     \\n     109 C          -51.3863    47.1373    31.0883 C             1 RES     \\n     110 C          -51.8839    47.9082    32.2286 C             1 RES     \\n     111 C          -51.1233    48.0570    33.3936 C             1 RES     \\n     112 C          -51.7124    48.5329    34.5635 C             1 RES     \\n     113 C          -53.0382    48.9766    34.5392 C             1 RES     \\n     114 C          -53.7937    48.8921    33.3714 C             1 RES     \\n     115 C          -53.2185    48.3514    32.2266 C             1 RES     \\n     116 S          -53.6849    49.7289    36.0108 S             1 RES     \\n     117 O          -53.7532    48.6854    37.0213 O             1 RES     \\n     118 O          -52.8825    50.9169    36.2228 O             1 RES     \\n     119 C          -55.3600    50.2614    35.7359 C             1 RES     \\n     120 C          -55.7068    51.6062    35.8859 C             1 RES     \\n     121 C          -57.0502    51.9741    35.7984 C             1 RES     \\n     122 C          -58.0190    51.0245    35.4658 C             1 RES     \\n     123 C          -57.6594    49.6913    35.2717 C             1 RES     \\n     124 C          -56.3332    49.3011    35.4363 C             1 RES     \\n     125 C          -51.4902    47.6309    29.7800 C             1 RES     \\n     126 C          -51.3106    46.7850    28.6876 C             1 RES     \\n     127 C          -51.0322    45.4367    28.8932 C             1 RES     \\n     128 C          -44.1440    42.2446    28.2306 C             1 RES     \\n     129 C          -43.0399    42.0816    27.3988 C             1 RES     \\n     130 C          -43.1262    41.2385    26.2953 C             1 RES     \\n     131 C          -40.1331    34.2958    25.4125 C             1 RES     \\n     132 C          -38.9743    33.5334    25.5222 C             1 RES     \\n     133 C          -37.9788    33.6534    24.5596 C             1 RES     \\n     134 C          -36.5316    28.5427    19.0951 C             1 RES     \\n     135 C          -36.2221    27.2056    18.8579 C             1 RES     \\n     136 C          -34.9546    26.7231    19.1692 C             1 RES     \\n     137 C          -29.5078    25.1592    14.0703 C             1 RES     \\n     138 C          -29.2214    24.4025    12.9372 C             1 RES     \\n     139 C          -29.0380    23.0295    13.0523 C             1 RES     \\n     140 C          -22.2171    19.7036    12.9809 C             1 RES     \\n     141 C          -21.0010    19.6149    12.3113 C             1 RES     \\n     142 C          -20.9305    18.9298    11.1050 C             1 RES     \\n     143 C          -17.8954    12.0695     9.9962 C             1 RES     \\n     144 C          -16.7851    11.2661    10.2370 C             1 RES     \\n     145 C          -15.6152    11.4771     9.5171 C             1 RES     \\n     146 C          -13.0682     7.0509     3.8455 C             1 RES     \\n     147 C          -12.6979     5.7525     3.5021 C             1 RES     \\n     148 C          -11.5125     5.2157     3.9968 C             1 RES     \\n     149 C           -5.0352     4.4856    -0.0580 C             1 RES     \\n     150 C           -4.2557     4.0021    -1.1115 C             1 RES     \\n     151 C           -3.8765     2.6603    -1.1396 C             1 RES     \\n     152 O           -3.0894     2.2117    -2.1576 O             1 RES     \\n     153 H            2.5991    -0.9008    -0.0210 H             1 RES     \\n     154 H            0.6711    -2.1828     0.0161 H             1 RES     \\n     155 H           -1.8080    -2.1087    -0.0172 H             1 RES     \\n     156 H           -1.6215     2.2143     0.0617 H             1 RES     \\n     157 H            0.8092     2.1163     0.0378 H             1 RES     \\n     158 H           -5.3430     1.6213     1.7531 H             1 RES     \\n     159 H           -4.9559     3.6069     3.6784 H             1 RES     \\n     160 H           -6.5997     4.0286     5.4709 H             1 RES     \\n     161 H           -9.4157     5.4137     2.4873 H             1 RES     \\n     162 H           -7.8725     4.8025     0.7319 H             1 RES     \\n     163 H          -10.3403     7.9344     5.6916 H             1 RES     \\n     164 H          -11.1348    10.3082     4.6125 H             1 RES     \\n     165 H          -11.7265    12.2044     6.0796 H             1 RES     \\n     166 H          -15.2323    10.0266     7.4037 H             1 RES     \\n     167 H          -14.5171     8.1012     6.1334 H             1 RES     \\n     168 H          -16.6782    13.9748     7.4402 H             1 RES     \\n     169 H          -19.4947    13.8239     6.9601 H             1 RES     \\n     170 H          -20.9717    15.8084     6.9115 H             1 RES     \\n     171 H          -20.1370    16.4753    11.1119 H             1 RES     \\n     172 H          -18.5390    14.6710    11.0811 H             1 RES     \\n     173 H          -24.1481    17.7919    10.9136 H             1 RES     \\n     174 H          -25.2956    17.4552    13.5146 H             1 RES     \\n     175 H          -27.6241    18.0967    14.0512 H             1 RES     \\n     176 H          -26.5963    22.2451    13.3311 H             1 RES     \\n     177 H          -24.3967    21.5762    12.6075 H             1 RES     \\n     178 H          -29.3307    22.7065    16.4379 H             1 RES     \\n     179 H          -28.5769    24.9406    17.8279 H             1 RES     \\n     180 H          -29.8547    25.6453    19.8210 H             1 RES     \\n     181 H          -33.1959    26.6757    17.2606 H             1 RES     \\n     182 H          -32.0144    25.7788    15.3565 H             1 RES     \\n     183 H          -33.4986    29.6257    20.2186 H             1 RES     \\n     184 H          -34.5496    31.8665    19.0307 H             1 RES     \\n     185 H          -34.8850    33.9374    20.3355 H             1 RES     \\n     186 H          -37.9888    31.9458    22.6128 H             1 RES     \\n     187 H          -37.4942    29.8745    21.4770 H             1 RES     \\n     188 H          -39.5083    35.8594    22.4443 H             1 RES     \\n     189 H          -42.3576    35.6371    22.5677 H             1 RES     \\n     190 H          -43.8684    37.5959    22.5676 H             1 RES     \\n     191 H          -42.2298    38.8084    26.3919 H             1 RES     \\n     192 H          -40.6216    37.0140    26.2703 H             1 RES     \\n     193 H          -46.2905    40.0397    26.7589 H             1 RES     \\n     194 H          -47.0235    40.0201    29.4923 H             1 RES     \\n     195 H          -49.2851    40.6659    30.2566 H             1 RES     \\n     196 H          -48.5484    44.7081    28.8768 H             1 RES     \\n     197 H          -46.4335    44.0071    27.9510 H             1 RES     \\n     198 H          -50.8589    45.4209    32.2998 H             1 RES     \\n     199 H          -50.0742    47.7695    33.3975 H             1 RES     \\n     200 H          -51.1382    48.5437    35.4874 H             1 RES     \\n     201 H          -54.8287    49.2072    33.3149 H             1 RES     \\n     202 H          -53.8367    48.2401    31.3360 H             1 RES     \\n     203 H          -54.9536    52.3641    36.0911 H             1 RES     \\n     204 H          -57.3485    52.9989    36.0074 H             1 RES     \\n     205 H          -59.0597    51.3239    35.3661 H             1 RES     \\n     206 H          -58.4160    48.9523    35.0204 H             1 RES     \\n     207 H          -56.0624    48.2540    35.3179 H             1 RES     \\n     208 H          -51.7621    48.6716    29.6110 H             1 RES     \\n     209 H          -51.4391    47.1688    27.6793 H             1 RES     \\n     210 H          -50.9432    44.7703    28.0387 H             1 RES     \\n     211 H          -44.0925    42.9552    29.0544 H             1 RES     \\n     212 H          -42.1373    42.6588    27.5796 H             1 RES     \\n     213 H          -42.2822    41.1637    25.6140 H             1 RES     \\n     214 H          -40.8847    34.2391    26.1987 H             1 RES     \\n     215 H          -38.8295    32.8883    26.3840 H             1 RES     \\n     216 H          -37.0529    33.0947    24.6744 H             1 RES     \\n     217 H          -37.5408    28.9007    18.8971 H             1 RES     \\n     218 H          -36.9852    26.5326    18.4772 H             1 RES     \\n     219 H          -34.7326    25.6679    19.0293 H             1 RES     \\n     220 H          -29.6996    26.2257    13.9634 H             1 RES     \\n     221 H          -29.1885    24.8761    11.9604 H             1 RES     \\n     222 H          -28.8604    22.4339    12.1600 H             1 RES     \\n     223 H          -22.2791    20.2948    13.8936 H             1 RES     \\n     224 H          -20.1264    20.1274    12.7009 H             1 RES     \\n     225 H          -19.9927    18.9107    10.5551 H             1 RES     \\n     226 H          -18.7905    11.9364    10.6024 H             1 RES     \\n     227 H          -16.8194    10.5143    11.0202 H             1 RES     \\n     228 H          -14.7331    10.8822     9.7424 H             1 RES     \\n     229 H          -14.0192     7.4471     3.4927 H             1 RES     \\n     230 H          -13.3580     5.1469     2.8874 H             1 RES     \\n     231 H          -11.2518     4.1857     3.7657 H             1 RES     \\n     232 H           -5.3313     5.5339    -0.0571 H             1 RES     \\n     233 H           -3.9471     4.6907    -1.8931 H             1 RES     \\n     234 H           -2.9350     2.9239    -2.8011 H             1 RES     \\n@<TRIPOS>BOND\\n       1      150      233 1\\n       2      177       55 1\\n       3       79      187 1\\n       4       29       28 1\\n       5      102      103 1\\n       6       56       59 1\\n       7      174       51 1\\n       8        3        2 1\\n       9       66      181 1\\n      10      129      130 1\\n      11       42       43 1\\n      12      116      118 1\\n      13       64       65 1\\n      14       44       45 1\\n      15       66       67 1\\n      16      108      198 1\\n      17       52       53 1\\n      18      107      108 1\\n      19       20       23 1\\n      20      133      216 1\\n      21      148      231 1\\n      22       92       94 1\\n      23      144      227 1\\n      24       85      131 1\\n      25       80       82 1\\n      26      101      104 1\\n      27        8       10 1\\n      28       74       79 1\\n      29       83       84 1\\n      30      138      139 1\\n      31       75       76 1\\n      32      140       49 1\\n      33      146      147 1\\n      34      175       52 1\\n      35      104      107 1\\n      36      119      124 1\\n      37      154        3 1\\n      38      137       61 1\\n      39      165       28 1\\n      40       68       71 1\\n      41       65       68 1\\n      42       63      179 1\\n      43      130      213 1\\n      44       38       37 1\\n      45       29       32 1\\n      46       67       62 1\\n      47      143      226 1\\n      48      147      230 1\\n      49       28       27 1\\n      50      149      150 1\\n      51       48       49 1\\n      52       86       87 1\\n      53       97       98 1\\n      54      101      102 1\\n      55      100      195 1\\n      56       64      180 1\\n      57      125      126 1\\n      58       39       38 1\\n      59       78      186 1\\n      60      104      105 1\\n      61       13       14 1\\n      62      120      121 1\\n      63      128      129 1\\n      64       65       66 1\\n      65      132      133 1\\n      66       73      134 1\\n      67       76      185 1\\n      68      149       13 1\\n      69       21       20 1\\n      70       84      188 1\\n      71      112      200 1\\n      72       11        8 1\\n      73       35       32 1\\n      74      126      209 1\\n      75      162       19 1\\n      76       99      194 1\\n      77      149      232 1\\n      78       95      130 1\\n      79      102      196 1\\n      80      119      120 1\\n      81       56       57 1\\n      82       12       13 1\\n      83      156        6 1\\n      84       31       26 1\\n      85      132      215 1\\n      86      128      211 1\\n      87       16       15 1\\n      88       75      184 1\\n      89       96      193 1\\n      90      150      151 1\\n      91       87       88 1\\n      92       71       72 1\\n      93       86       91 1\\n      94      152      234 1\\n      95      134      135 1\\n      96       67      182 1\\n      97      164       27 1\\n      98       31       30 1\\n      99      148       23 1\\n     100       51       52 1\\n     101      114      115 1\\n     102       44       46 1\\n     103      160       16 1\\n     104      131      132 1\\n     105       92       93 1\\n     106       68       69 1\\n     107        4        3 1\\n     108      127      210 1\\n     109      131      214 1\\n     110      155        4 1\\n     111      151       11 1\\n     112        6        7 1\\n     113      111      199 1\\n     114       98      103 1\\n     115       61       62 1\\n     116      143       37 1\\n     117      100      101 1\\n     118      103      197 1\\n     119       53       56 1\\n     120      116      119 1\\n     121      120      203 1\\n     122      142      225 1\\n     123       90      191 1\\n     124       25       24 1\\n     125      110      111 1\\n     126      168       36 1\\n     127      145      228 1\\n     128      137      220 1\\n     129       80       81 1\\n     130      143      144 1\\n     131      159       15 1\\n     132       99      100 1\\n     133      123      124 1\\n     134       60       61 1\\n     135      161       18 1\\n     136       41       44 1\\n     137      109      125 1\\n     138       16       17 1\\n     139      173       48 1\\n     140        5        8 1\\n     141      113      116 1\\n     142      136      219 1\\n     143       87      189 1\\n     144       68       70 1\\n     145      166       30 1\\n     146       92       95 1\\n     147       22       20 1\\n     148       36       37 1\\n     149        5        6 1\\n     150      138      221 1\\n     151      124      207 1\\n     152       80       83 1\\n     153        2        7 1\\n     154       43       38 1\\n     155      178       60 1\\n     156       32       34 1\\n     157      176       54 1\\n     158      158       12 1\\n     159      122      123 1\\n     160       59       60 1\\n     161       96       97 1\\n     162      115      202 1\\n     163      104      106 1\\n     164       27       26 1\\n     165       78       79 1\\n     166      141      142 1\\n     167      171       42 1\\n     168       97      128 1\\n     169      113      114 1\\n     170      135      218 1\\n     171       50       51 1\\n     172       54       55 1\\n     173       17       20 1\\n     174       14       19 1\\n     175      157        7 1\\n     176       83      133 1\\n     177       40       39 1\\n     178       23       24 1\\n     179       49       50 1\\n     180      110      115 1\\n     181      112      113 1\\n     182      107      127 1\\n     183       63       62 1\\n     184      125      208 1\\n     185      123      206 1\\n     186       85       86 1\\n     187      144      145 1\\n     188       72      183 1\\n     189       36       35 1\\n     190      163       24 1\\n     191       18       17 1\\n     192       40       41 1\\n     193      139       59 1\\n     194      114      201 1\\n     195      134      217 1\\n     196      141      224 1\\n     197       48       47 1\\n     198       72       73 1\\n     199       74       75 1\\n     200       90       91 1\\n     201       88       89 1\\n     202      137      138 1\\n     203      167       31 1\\n     204      151      152 1\\n     205      135      136 1\\n     206      129      212 1\\n     207      111      112 1\\n     208       71      136 1\\n     209       95       96 1\\n     210      140      223 1\\n     211      146       25 1\\n     212      121      204 1\\n     213      126      127 1\\n     214       41       42 1\\n     215       56       58 1\\n     216       63       64 1\\n     217      172       43 1\\n     218       88      190 1\\n     219      142       47 1\\n     220       50       55 1\\n     221        4        5 1\\n     222      146      229 1\\n     223       77       80 1\\n     224       89       92 1\\n     225        1        2 1\\n     226      169       39 1\\n     227       25       26 1\\n     228       91      192 1\\n     229       98       99 1\\n     230      170       40 1\\n     231      139      222 1\\n     232       76       77 1\\n     233       18       19 1\\n     234       84       85 1\\n     235        8        9 1\\n     236      147      148 1\\n     237       14       15 1\\n     238      109      110 1\\n     239      121      122 1\\n     240      122      205 1\\n     241       29       30 1\\n     242       44       47 1\\n     243      153        1 1\\n     244       32       33 1\\n     245       53       54 1\\n     246      108      109 1\\n     247      116      117 1\\n     248       11       12 1\\n     249       73       74 1\\n     250       77       78 1\\n     251       89       90 1\\n     252      140      141 1\\n     253      145       35 1\\n@<TRIPOS>SUBSTRUCTURE\\n       1 RES             1 RESIDUE    0 **** ROOT      0\\n\",\"mol2\");\n",
       "\tviewer_15834363404104624.setStyle({\"stick\": {\"radius\": 0.2, \"color\": \"grey\"}, \"sphere\": {\"scale\": 0.3, \"colorscheme\": {}}});\n",
       "\tviewer_15834363404104624.zoomTo();\n",
       "viewer_15834363404104624.render();\n",
       "});\n",
       "</script>"
      ]
     },
     "metadata": {},
     "output_type": "display_data"
    }
   ],
   "source": [
    "PES10mer = 'Oc1ccc(cc1)S(=O)(=O)c%20cc(c2ccc(cc2)S(=O)(=O)c%19cc(c3ccc(cc3)S(=O)(=O)c%18cc(c4ccc(cc4)S(=O)(=O)c%17cc(c5ccc(cc5)S(=O)(=O)c%16cc(c6ccc(cc6)S(=O)(=O)c%15cc(c7ccc(cc7)S(=O)(=O)c%14cc(c8ccc(cc8)S(=O)(=O)c%13cc(c9ccc(cc9)S(=O)(=O)c%12cc(c%10ccc(cc%10)S(=O)(=O)c%11ccccc%11)ccc%12)ccc%13)ccc%14)ccc%15)ccc%16)ccc%17)ccc%18)ccc%19)ccc%20O'\n",
    "viz(PES10mer)"
   ]
  },
  {
   "cell_type": "code",
   "execution_count": 104,
   "metadata": {
    "scrolled": false
   },
   "outputs": [],
   "source": [
    "branch = add_component(name = 'benzene-cyclopentane', structure_type='branch', string = \"C=c2c(=O)c1c(cccc1)c2=C(CC)CC\")"
   ]
  },
  {
   "cell_type": "code",
   "execution_count": null,
   "metadata": {},
   "outputs": [],
   "source": []
  },
  {
   "cell_type": "code",
   "execution_count": 106,
   "metadata": {},
   "outputs": [],
   "source": [
    "branch = 'ccc'\n",
    "smi_branch = convert_smiles(deep = branch)\n",
    "#print(smi_branch)\n",
    "#viz(json_file = 'benzylehexane.json')\n",
    "#viz(branch)\n",
    "#viz(smi_branch, deep=False)"
   ]
  },
  {
   "cell_type": "code",
   "execution_count": null,
   "metadata": {},
   "outputs": [],
   "source": []
  },
  {
   "cell_type": "code",
   "execution_count": 190,
   "metadata": {},
   "outputs": [],
   "source": [
    "'''\n",
    "class Compound:\n",
    "    \n",
    "    \n",
    "    def __init__(self, backbone, branches, fill, poly):   \n",
    "        self.fname = 'typed-components/{}.json'.format(backbone)\n",
    "        self.fill = fill\n",
    "        self.polymerize = poly\n",
    "        self.branches = branches\n",
    "        \n",
    "        #self.smiles, self.deep_smiles = get_smiles_string(self.fname)\n",
    "\n",
    "    def get_smiles(self):\n",
    "        with open(self.fname) as jf:\n",
    "            d = json.load(jf)\n",
    "            smiles = d['smiles']\n",
    "        self.smiles = smiles\n",
    "    \n",
    "    def smiles(self):\n",
    "        with open(self.fname) as jf:\n",
    "            d = json.load(jf)\n",
    "            smiles = d['smiles']\n",
    "            deep_smiles = d['deep_smiles']\n",
    "        return smiles\n",
    "        \n",
    "    def get_branches(self):\n",
    "        pass\n",
    "    \n",
    "    def build(self):\n",
    "        pass\n",
    "    \n",
    "    def polyermize(self):\n",
    "        pass\n",
    "'''"
   ]
  },
  {
   "cell_type": "code",
   "execution_count": 8,
   "metadata": {},
   "outputs": [],
   "source": [
    "def get_smiles(component, type='smiles'):\n",
    "    \n",
    "    with open('typed-components/{}.json'.format(component)) as jf:\n",
    "        d = json.load(jf)\n",
    "        if type == 'smiles':\n",
    "            smiles = d['smiles']\n",
    "        elif type == 'deep_smiles':\n",
    "            smiles = d['deep_smiles']\n",
    "        elif type == 'template':\n",
    "            smiles = d['template']\n",
    "        return smiles"
   ]
  },
  {
   "cell_type": "code",
   "execution_count": 25,
   "metadata": {},
   "outputs": [],
   "source": [
    "def build_compound(backbone, branches, polymerize=False):\n",
    "    \n",
    "    def get_bonding_sites():\n",
    "        bond_indices = []\n",
    "        with open('typed-components/{}.json'.format(backbone)) as jf:\n",
    "            d = json.load(jf)\n",
    "            bond_info = d['bonding']\n",
    "            for dictionary in bond_info:\n",
    "                if not polymerize:\n",
    "                    bond_indices.append(dictionary['index'])\n",
    "                elif polyermize:\n",
    "                    if dictionary['type'] != 'poly':\n",
    "                        bond_indices.append(dictionary['index'])\n",
    "        return bond_indices\n",
    "        \n",
    "    backbone_smiles = get_smiles(backbone)\n",
    "    backbone_deep_smiles = get_smiles(backbone, type='deep_smiles')\n",
    "    backbone_template = get_smiles(backbone, type = 'template')\n",
    "    branch_smiles = [get_smiles(branch) for branch in branches]\n",
    "    branch_deep_smiles = [get_smiles(branch, type = 'deep_smiles') for branch in branches]\n",
    "    bond_indices = get_bonding_sites()\n",
    "    \n",
    "    print(backbone_smiles)\n",
    "    print(backbone_deep_smiles)\n",
    "    print(backbone_template)\n",
    "    print(branch_smiles)\n",
    "    print(branch_deep_smiles)\n",
    "    print(bond_indices)\n",
    "    \n",
    "        def assign_branches():\n",
    "            \n",
    "    \n",
    "    return bond_indices, branch_smiles"
   ]
  },
  {
   "cell_type": "code",
   "execution_count": 26,
   "metadata": {},
   "outputs": [
    {
     "name": "stdout",
     "output_type": "stream",
     "text": [
      "C6c4cc3c2sc1ccsc1c2Cc3cc4c7sc5ccsc5c67\n",
      "Cccccscccsc5c8Cc%11cc%15cscccsc5c%248\n",
      "C{}cc{}ccscc{}c{}sc5c8C{}c%11c{}c%15cscc{}c{}sc5c%248\n",
      "['C=c2c(=O)c1c(cccc1)c2=C(CC)CC', 'c1ccc(CCCCCC)cc1']\n",
      "['C=cc=O)cccccc6))))c5=CCC))CC', 'ccccCCCCCC))))))cc6']\n",
      "[0, 2, 7, 8, 14, 19, 27, 28]\n"
     ]
    }
   ],
   "source": [
    "backbone = 'itic'\n",
    "branches = ['benzene-cyclopentane', 'benzylehexane']\n",
    "bonding_sites, branch_smiles = build_compound(backbone, branches)"
   ]
  },
  {
   "cell_type": "code",
   "execution_count": null,
   "metadata": {},
   "outputs": [],
   "source": []
  },
  {
   "cell_type": "code",
   "execution_count": 27,
   "metadata": {},
   "outputs": [],
   "source": []
  },
  {
   "cell_type": "code",
   "execution_count": 28,
   "metadata": {},
   "outputs": [],
   "source": []
  },
  {
   "cell_type": "code",
   "execution_count": null,
   "metadata": {},
   "outputs": [],
   "source": []
  },
  {
   "cell_type": "code",
   "execution_count": 5,
   "metadata": {},
   "outputs": [
    {
     "name": "stderr",
     "output_type": "stream",
     "text": [
      "/home/chris/miniconda3/envs/mosdef-smiles/lib/python3.7/site-packages/openbabel/__init__.py:14: UserWarning: \"import openbabel\" is deprecated, instead use \"from openbabel import openbabel\"\n",
      "  warnings.warn('\"import openbabel\" is deprecated, instead use \"from openbabel import openbabel\"')\n",
      "/home/chris/cme/mbuild/mbuild/compound.py:2749: UserWarning: No unitcell detected for pybel.Molecule c1sccc1CCCCCC\t\n",
      "\n",
      "  warn(\"No unitcell detected for pybel.Molecule {}\".format(pybel_mol))\n"
     ]
    },
    {
     "data": {
      "application/3dmoljs_load.v0": "<div id=\"3dmolviewer_15832664823777008\"  style=\"position: relative; width: 640px; height: 480px\">\n        <p id=\"3dmolwarning_15832664823777008\" style=\"background-color:#ffcccc;color:black\">You appear to be running in JupyterLab (or JavaScript failed to load for some other reason).  You need to install the 3dmol extension: <br>\n        <tt>jupyter labextension install jupyterlab_3dmol</tt></p>\n        </div>\n<script>\n\nvar loadScriptAsync = function(uri){\n  return new Promise((resolve, reject) => {\n    var tag = document.createElement('script');\n    tag.src = uri;\n    tag.async = true;\n    tag.onload = () => {\n      resolve();\n    };\n  var firstScriptTag = document.getElementsByTagName('script')[0];\n  firstScriptTag.parentNode.insertBefore(tag, firstScriptTag);\n});\n};\n\nif(typeof $3Dmolpromise === 'undefined') {\n$3Dmolpromise = null;\n  $3Dmolpromise = loadScriptAsync('https://3dmol.csb.pitt.edu/build/3Dmol.js');\n}\n\nvar viewer_15832664823777008 = null;\nvar warn = document.getElementById(\"3dmolwarning_15832664823777008\");\nif(warn) {\n    warn.parentNode.removeChild(warn);\n}\n$3Dmolpromise.then(function() {\nviewer_15832664823777008 = $3Dmol.createViewer($(\"#3dmolviewer_15832664823777008\"),{backgroundColor:\"white\"});\n\tviewer_15832664823777008.addModel(\"@<TRIPOS>MOLECULE\\nRES\\n27 27 1 0 1\\nSMALL\\nNO_CHARGES\\n@<TRIPOS>CRYSIN\\n   11.1629    15.6263     6.7801    90.0000    90.0000    90.0000  1  1\\n@<TRIPOS>ATOM\\n       1 C            0.0459     1.1644    -0.0042 C             1 RES     \\n       2 S           -1.1173    -0.0832    -0.0065 S             1 RES     \\n       3 C            0.0990    -1.2801    -0.0043 C             1 RES     \\n       4 C            1.3662    -0.7361     0.0023 C             1 RES     \\n       5 C            1.3486     0.6960     0.0011 C             1 RES     \\n       6 C            2.5931     1.5399     0.0042 C             1 RES     \\n       7 C            2.2927     3.0343     0.0009 C             1 RES     \\n       8 C            3.5589     3.8705     0.0039 C             1 RES     \\n       9 C            3.1856     5.3477     0.0004 C             1 RES     \\n      10 C            4.4345     6.2150     0.0034 C             1 RES     \\n      11 C            4.0627     7.6851     0.0000 C             1 RES     \\n      12 H           -0.2899     2.1930    -0.0069 H             1 RES     \\n      13 H           -0.1722    -2.3240    -0.0074 H             1 RES     \\n      14 H            2.2662    -1.3369     0.0061 H             1 RES     \\n      15 H            3.1982     1.2859    -0.8756 H             1 RES     \\n      16 H            3.1924     1.2885     0.8888 H             1 RES     \\n      17 H            1.6904     3.2928     0.8817 H             1 RES     \\n      18 H            1.6964     3.2900    -0.8848 H             1 RES     \\n      19 H            4.1650     3.6335    -0.8783 H             1 RES     \\n      20 H            4.1592     3.6361     0.8907 H             1 RES     \\n      21 H            2.5697     5.5762     0.8798 H             1 RES     \\n      22 H            2.5756     5.5736    -0.8836 H             1 RES     \\n      23 H            5.0457     5.9878    -0.8776 H             1 RES     \\n      24 H            5.0398     5.9903     0.8890 H             1 RES     \\n      25 H            3.4751     7.9347    -0.8893 H             1 RES     \\n      26 H            4.9648     8.3023     0.0022 H             1 RES     \\n      27 H            3.4692     7.9373     0.8847 H             1 RES     \\n@<TRIPOS>BOND\\n       1        7       17 1\\n       2        8       20 1\\n       3        2        3 1\\n       4       11       27 1\\n       5       10       23 1\\n       6        7       18 1\\n       7        8       19 1\\n       8        3        4 1\\n       9        7        8 1\\n      10        6       16 1\\n      11        9       21 1\\n      12       10       11 1\\n      13        3       13 1\\n      14        1        5 1\\n      15        6       15 1\\n      16        9       22 1\\n      17        6        7 1\\n      18       11       25 1\\n      19        5        6 1\\n      20        1        2 1\\n      21       11       26 1\\n      22        9       10 1\\n      23        4        5 1\\n      24        8        9 1\\n      25        4       14 1\\n      26        1       12 1\\n      27       10       24 1\\n@<TRIPOS>SUBSTRUCTURE\\n       1 RES             1 RESIDUE    0 **** ROOT      0\\n\",\"mol2\");\n\tviewer_15832664823777008.setStyle({\"stick\": {\"radius\": 0.2, \"color\": \"grey\"}, \"sphere\": {\"scale\": 0.3, \"colorscheme\": {}}});\n\tviewer_15832664823777008.zoomTo();\nviewer_15832664823777008.render();\n});\n</script>",
      "text/html": [
       "<div id=\"3dmolviewer_15832664823777008\"  style=\"position: relative; width: 640px; height: 480px\">\n",
       "        <p id=\"3dmolwarning_15832664823777008\" style=\"background-color:#ffcccc;color:black\">You appear to be running in JupyterLab (or JavaScript failed to load for some other reason).  You need to install the 3dmol extension: <br>\n",
       "        <tt>jupyter labextension install jupyterlab_3dmol</tt></p>\n",
       "        </div>\n",
       "<script>\n",
       "\n",
       "var loadScriptAsync = function(uri){\n",
       "  return new Promise((resolve, reject) => {\n",
       "    var tag = document.createElement('script');\n",
       "    tag.src = uri;\n",
       "    tag.async = true;\n",
       "    tag.onload = () => {\n",
       "      resolve();\n",
       "    };\n",
       "  var firstScriptTag = document.getElementsByTagName('script')[0];\n",
       "  firstScriptTag.parentNode.insertBefore(tag, firstScriptTag);\n",
       "});\n",
       "};\n",
       "\n",
       "if(typeof $3Dmolpromise === 'undefined') {\n",
       "$3Dmolpromise = null;\n",
       "  $3Dmolpromise = loadScriptAsync('https://3dmol.csb.pitt.edu/build/3Dmol.js');\n",
       "}\n",
       "\n",
       "var viewer_15832664823777008 = null;\n",
       "var warn = document.getElementById(\"3dmolwarning_15832664823777008\");\n",
       "if(warn) {\n",
       "    warn.parentNode.removeChild(warn);\n",
       "}\n",
       "$3Dmolpromise.then(function() {\n",
       "viewer_15832664823777008 = $3Dmol.createViewer($(\"#3dmolviewer_15832664823777008\"),{backgroundColor:\"white\"});\n",
       "\tviewer_15832664823777008.addModel(\"@<TRIPOS>MOLECULE\\nRES\\n27 27 1 0 1\\nSMALL\\nNO_CHARGES\\n@<TRIPOS>CRYSIN\\n   11.1629    15.6263     6.7801    90.0000    90.0000    90.0000  1  1\\n@<TRIPOS>ATOM\\n       1 C            0.0459     1.1644    -0.0042 C             1 RES     \\n       2 S           -1.1173    -0.0832    -0.0065 S             1 RES     \\n       3 C            0.0990    -1.2801    -0.0043 C             1 RES     \\n       4 C            1.3662    -0.7361     0.0023 C             1 RES     \\n       5 C            1.3486     0.6960     0.0011 C             1 RES     \\n       6 C            2.5931     1.5399     0.0042 C             1 RES     \\n       7 C            2.2927     3.0343     0.0009 C             1 RES     \\n       8 C            3.5589     3.8705     0.0039 C             1 RES     \\n       9 C            3.1856     5.3477     0.0004 C             1 RES     \\n      10 C            4.4345     6.2150     0.0034 C             1 RES     \\n      11 C            4.0627     7.6851     0.0000 C             1 RES     \\n      12 H           -0.2899     2.1930    -0.0069 H             1 RES     \\n      13 H           -0.1722    -2.3240    -0.0074 H             1 RES     \\n      14 H            2.2662    -1.3369     0.0061 H             1 RES     \\n      15 H            3.1982     1.2859    -0.8756 H             1 RES     \\n      16 H            3.1924     1.2885     0.8888 H             1 RES     \\n      17 H            1.6904     3.2928     0.8817 H             1 RES     \\n      18 H            1.6964     3.2900    -0.8848 H             1 RES     \\n      19 H            4.1650     3.6335    -0.8783 H             1 RES     \\n      20 H            4.1592     3.6361     0.8907 H             1 RES     \\n      21 H            2.5697     5.5762     0.8798 H             1 RES     \\n      22 H            2.5756     5.5736    -0.8836 H             1 RES     \\n      23 H            5.0457     5.9878    -0.8776 H             1 RES     \\n      24 H            5.0398     5.9903     0.8890 H             1 RES     \\n      25 H            3.4751     7.9347    -0.8893 H             1 RES     \\n      26 H            4.9648     8.3023     0.0022 H             1 RES     \\n      27 H            3.4692     7.9373     0.8847 H             1 RES     \\n@<TRIPOS>BOND\\n       1        7       17 1\\n       2        8       20 1\\n       3        2        3 1\\n       4       11       27 1\\n       5       10       23 1\\n       6        7       18 1\\n       7        8       19 1\\n       8        3        4 1\\n       9        7        8 1\\n      10        6       16 1\\n      11        9       21 1\\n      12       10       11 1\\n      13        3       13 1\\n      14        1        5 1\\n      15        6       15 1\\n      16        9       22 1\\n      17        6        7 1\\n      18       11       25 1\\n      19        5        6 1\\n      20        1        2 1\\n      21       11       26 1\\n      22        9       10 1\\n      23        4        5 1\\n      24        8        9 1\\n      25        4       14 1\\n      26        1       12 1\\n      27       10       24 1\\n@<TRIPOS>SUBSTRUCTURE\\n       1 RES             1 RESIDUE    0 **** ROOT      0\\n\",\"mol2\");\n",
       "\tviewer_15832664823777008.setStyle({\"stick\": {\"radius\": 0.2, \"color\": \"grey\"}, \"sphere\": {\"scale\": 0.3, \"colorscheme\": {}}});\n",
       "\tviewer_15832664823777008.zoomTo();\n",
       "viewer_15832664823777008.render();\n",
       "});\n",
       "</script>"
      ]
     },
     "metadata": {},
     "output_type": "display_data"
    }
   ],
   "source": [
    "p3ht = 'c1sccc1CCCCCC'\n",
    "viz(p3ht, deep=False)"
   ]
  },
  {
   "cell_type": "code",
   "execution_count": 4,
   "metadata": {
    "scrolled": false
   },
   "outputs": [
    {
     "ename": "NameError",
     "evalue": "name 'p3ht' is not defined",
     "output_type": "error",
     "traceback": [
      "\u001b[0;31m---------------------------------------------------------------------------\u001b[0m",
      "\u001b[0;31mNameError\u001b[0m                                 Traceback (most recent call last)",
      "\u001b[0;32m<ipython-input-4-eb84c2342796>\u001b[0m in \u001b[0;36m<module>\u001b[0;34m\u001b[0m\n\u001b[0;32m----> 1\u001b[0;31m \u001b[0mconvert_smiles\u001b[0m\u001b[0;34m(\u001b[0m\u001b[0msmiles\u001b[0m \u001b[0;34m=\u001b[0m \u001b[0mp3ht\u001b[0m\u001b[0;34m)\u001b[0m\u001b[0;34m\u001b[0m\u001b[0;34m\u001b[0m\u001b[0m\n\u001b[0m",
      "\u001b[0;31mNameError\u001b[0m: name 'p3ht' is not defined"
     ]
    }
   ],
   "source": [
    "convert_smiles(smiles = p3ht)"
   ]
  },
  {
   "cell_type": "code",
   "execution_count": 13,
   "metadata": {
    "scrolled": false
   },
   "outputs": [
    {
     "name": "stdout",
     "output_type": "stream",
     "text": [
      "csccc5CCCCCC\n",
      "c%10sc(c9sc(c8sc(c7sc(c6sc(c5sc(c4sc(c3sc(c2sc(c1sccc1CCCCCC)cc2CCCCCC)cc3CCCCCC)cc4CCCCCC)cc5CCCCCC)cc6CCCCCC)cc7CCCCCC)cc8CCCCCC)cc9CCCCCC)cc%10CCCCCC\n"
     ]
    }
   ],
   "source": [
    "poly_smi = poly_smiles(monomer_string='cs*c*cc5CCCCCC', length=10)\n",
    "print(poly_smi)"
   ]
  },
  {
   "cell_type": "code",
   "execution_count": null,
   "metadata": {},
   "outputs": [],
   "source": []
  },
  {
   "cell_type": "code",
   "execution_count": 14,
   "metadata": {
    "scrolled": true
   },
   "outputs": [
    {
     "data": {
      "text/plain": [
       "\"\\np3ht_comp = mb.load(p3ht, smiles=True)\\nfor p in p3ht_comp.particles():\\n    print(p)\\n#         self.add(mb.Port(anchor=carbon, orientation=[0, 1, 0], separation=0.075), 'up')\\n\""
      ]
     },
     "execution_count": 14,
     "metadata": {},
     "output_type": "execute_result"
    }
   ],
   "source": [
    "'''\n",
    "p3ht_comp = mb.load(p3ht, smiles=True)\n",
    "for p in p3ht_comp.particles():\n",
    "    print(p)\n",
    "#         self.add(mb.Port(anchor=carbon, orientation=[0, 1, 0], separation=0.075), 'up')\n",
    "'''"
   ]
  },
  {
   "cell_type": "code",
   "execution_count": 15,
   "metadata": {
    "scrolled": false
   },
   "outputs": [
    {
     "data": {
      "text/plain": [
       "\"\\np3ht_comp = mb.load(p3ht, smiles=True)\\np3ht_comp.add(mb.Port(anchor=p3ht_comp[2], orientation=[0, -1, 0], separation=0.2,), 'down')\\np3ht_comp.add(mb.Port(anchor=p3ht_comp[0], orientation=[0, 1, 0], separation=0.2,), 'up')\\n\\np3ht_dimer = mb.recipes.Polymer(p3ht_comp, n=2)\\n\""
      ]
     },
     "execution_count": 15,
     "metadata": {},
     "output_type": "execute_result"
    }
   ],
   "source": [
    "'''\n",
    "p3ht_comp = mb.load(p3ht, smiles=True)\n",
    "p3ht_comp.add(mb.Port(anchor=p3ht_comp[2], orientation=[0, -1, 0], separation=0.2,), 'down')\n",
    "p3ht_comp.add(mb.Port(anchor=p3ht_comp[0], orientation=[0, 1, 0], separation=0.2,), 'up')\n",
    "\n",
    "p3ht_dimer = mb.recipes.Polymer(p3ht_comp, n=2)\n",
    "'''"
   ]
  },
  {
   "cell_type": "code",
   "execution_count": 16,
   "metadata": {},
   "outputs": [
    {
     "name": "stderr",
     "output_type": "stream",
     "text": [
      "/home/chris/cme/mbuild/mbuild/compound.py:2749: UserWarning: No unitcell detected for pybel.Molecule c1sccc1N\t\n",
      "\n",
      "  warn(\"No unitcell detected for pybel.Molecule {}\".format(pybel_mol))\n"
     ]
    },
    {
     "data": {
      "application/3dmoljs_load.v0": "<div id=\"3dmolviewer_15833321734606922\"  style=\"position: relative; width: 640px; height: 480px\">\n        <p id=\"3dmolwarning_15833321734606922\" style=\"background-color:#ffcccc;color:black\">You appear to be running in JupyterLab (or JavaScript failed to load for some other reason).  You need to install the 3dmol extension: <br>\n        <tt>jupyter labextension install jupyterlab_3dmol</tt></p>\n        </div>\n<script>\n\nvar loadScriptAsync = function(uri){\n  return new Promise((resolve, reject) => {\n    var tag = document.createElement('script');\n    tag.src = uri;\n    tag.async = true;\n    tag.onload = () => {\n      resolve();\n    };\n  var firstScriptTag = document.getElementsByTagName('script')[0];\n  firstScriptTag.parentNode.insertBefore(tag, firstScriptTag);\n});\n};\n\nif(typeof $3Dmolpromise === 'undefined') {\n$3Dmolpromise = null;\n  $3Dmolpromise = loadScriptAsync('https://3dmol.csb.pitt.edu/build/3Dmol.js');\n}\n\nvar viewer_15833321734606922 = null;\nvar warn = document.getElementById(\"3dmolwarning_15833321734606922\");\nif(warn) {\n    warn.parentNode.removeChild(warn);\n}\n$3Dmolpromise.then(function() {\nviewer_15833321734606922 = $3Dmol.createViewer($(\"#3dmolviewer_15833321734606922\"),{backgroundColor:\"white\"});\n\tviewer_15833321734606922.addModel(\"@<TRIPOS>MOLECULE\\nRES\\n11 11 1 0 1\\nSMALL\\nNO_CHARGES\\n@<TRIPOS>CRYSIN\\n    9.6345     9.2789     5.0175    90.0000    90.0000    90.0000  1  1\\n@<TRIPOS>ATOM\\n       1 C           -0.1588     1.0378     0.0034 C             1 RES     \\n       2 S            1.4241     0.3817     0.0027 S             1 RES     \\n       3 C            0.8158    -1.2193     0.0014 C             1 RES     \\n       4 C           -0.5628    -1.2496     0.0005 C             1 RES     \\n       5 C           -1.1191     0.0551     0.0010 C             1 RES     \\n       6 N           -2.4386     0.3046    -0.0001 N             1 RES     \\n       7 H           -0.2983     2.1090     0.0056 H             1 RES     \\n       8 H            1.4968    -2.0588     0.0013 H             1 RES     \\n       9 H           -1.1319    -2.1700    -0.0007 H             1 RES     \\n      10 H           -3.1376    -0.4312    -0.0071 H             1 RES     \\n      11 H           -2.8204     1.2451    -0.0119 H             1 RES     \\n@<TRIPOS>BOND\\n       1        3        4 1\\n       2        1        7 1\\n       3       11        6 1\\n       4        4        9 1\\n       5        5        6 1\\n       6       10        6 1\\n       7        1        2 1\\n       8        3        8 1\\n       9        4        5 1\\n      10        3        2 1\\n      11        1        5 1\\n@<TRIPOS>SUBSTRUCTURE\\n       1 RES             1 RESIDUE    0 **** ROOT      0\\n\",\"mol2\");\n\tviewer_15833321734606922.setStyle({\"stick\": {\"radius\": 0.2, \"color\": \"grey\"}, \"sphere\": {\"scale\": 0.3, \"colorscheme\": {}}});\n\tviewer_15833321734606922.zoomTo();\nviewer_15833321734606922.render();\n});\n</script>",
      "text/html": [
       "<div id=\"3dmolviewer_15833321734606922\"  style=\"position: relative; width: 640px; height: 480px\">\n",
       "        <p id=\"3dmolwarning_15833321734606922\" style=\"background-color:#ffcccc;color:black\">You appear to be running in JupyterLab (or JavaScript failed to load for some other reason).  You need to install the 3dmol extension: <br>\n",
       "        <tt>jupyter labextension install jupyterlab_3dmol</tt></p>\n",
       "        </div>\n",
       "<script>\n",
       "\n",
       "var loadScriptAsync = function(uri){\n",
       "  return new Promise((resolve, reject) => {\n",
       "    var tag = document.createElement('script');\n",
       "    tag.src = uri;\n",
       "    tag.async = true;\n",
       "    tag.onload = () => {\n",
       "      resolve();\n",
       "    };\n",
       "  var firstScriptTag = document.getElementsByTagName('script')[0];\n",
       "  firstScriptTag.parentNode.insertBefore(tag, firstScriptTag);\n",
       "});\n",
       "};\n",
       "\n",
       "if(typeof $3Dmolpromise === 'undefined') {\n",
       "$3Dmolpromise = null;\n",
       "  $3Dmolpromise = loadScriptAsync('https://3dmol.csb.pitt.edu/build/3Dmol.js');\n",
       "}\n",
       "\n",
       "var viewer_15833321734606922 = null;\n",
       "var warn = document.getElementById(\"3dmolwarning_15833321734606922\");\n",
       "if(warn) {\n",
       "    warn.parentNode.removeChild(warn);\n",
       "}\n",
       "$3Dmolpromise.then(function() {\n",
       "viewer_15833321734606922 = $3Dmol.createViewer($(\"#3dmolviewer_15833321734606922\"),{backgroundColor:\"white\"});\n",
       "\tviewer_15833321734606922.addModel(\"@<TRIPOS>MOLECULE\\nRES\\n11 11 1 0 1\\nSMALL\\nNO_CHARGES\\n@<TRIPOS>CRYSIN\\n    9.6345     9.2789     5.0175    90.0000    90.0000    90.0000  1  1\\n@<TRIPOS>ATOM\\n       1 C           -0.1588     1.0378     0.0034 C             1 RES     \\n       2 S            1.4241     0.3817     0.0027 S             1 RES     \\n       3 C            0.8158    -1.2193     0.0014 C             1 RES     \\n       4 C           -0.5628    -1.2496     0.0005 C             1 RES     \\n       5 C           -1.1191     0.0551     0.0010 C             1 RES     \\n       6 N           -2.4386     0.3046    -0.0001 N             1 RES     \\n       7 H           -0.2983     2.1090     0.0056 H             1 RES     \\n       8 H            1.4968    -2.0588     0.0013 H             1 RES     \\n       9 H           -1.1319    -2.1700    -0.0007 H             1 RES     \\n      10 H           -3.1376    -0.4312    -0.0071 H             1 RES     \\n      11 H           -2.8204     1.2451    -0.0119 H             1 RES     \\n@<TRIPOS>BOND\\n       1        3        4 1\\n       2        1        7 1\\n       3       11        6 1\\n       4        4        9 1\\n       5        5        6 1\\n       6       10        6 1\\n       7        1        2 1\\n       8        3        8 1\\n       9        4        5 1\\n      10        3        2 1\\n      11        1        5 1\\n@<TRIPOS>SUBSTRUCTURE\\n       1 RES             1 RESIDUE    0 **** ROOT      0\\n\",\"mol2\");\n",
       "\tviewer_15833321734606922.setStyle({\"stick\": {\"radius\": 0.2, \"color\": \"grey\"}, \"sphere\": {\"scale\": 0.3, \"colorscheme\": {}}});\n",
       "\tviewer_15833321734606922.zoomTo();\n",
       "viewer_15833321734606922.render();\n",
       "});\n",
       "</script>"
      ]
     },
     "metadata": {},
     "output_type": "display_data"
    },
    {
     "name": "stderr",
     "output_type": "stream",
     "text": [
      "/home/chris/cme/mbuild/mbuild/compound.py:2749: UserWarning: No unitcell detected for pybel.Molecule c1scc(N)c1\t\n",
      "\n",
      "  warn(\"No unitcell detected for pybel.Molecule {}\".format(pybel_mol))\n"
     ]
    },
    {
     "data": {
      "application/3dmoljs_load.v0": "<div id=\"3dmolviewer_15833321734716861\"  style=\"position: relative; width: 640px; height: 480px\">\n        <p id=\"3dmolwarning_15833321734716861\" style=\"background-color:#ffcccc;color:black\">You appear to be running in JupyterLab (or JavaScript failed to load for some other reason).  You need to install the 3dmol extension: <br>\n        <tt>jupyter labextension install jupyterlab_3dmol</tt></p>\n        </div>\n<script>\n\nvar loadScriptAsync = function(uri){\n  return new Promise((resolve, reject) => {\n    var tag = document.createElement('script');\n    tag.src = uri;\n    tag.async = true;\n    tag.onload = () => {\n      resolve();\n    };\n  var firstScriptTag = document.getElementsByTagName('script')[0];\n  firstScriptTag.parentNode.insertBefore(tag, firstScriptTag);\n});\n};\n\nif(typeof $3Dmolpromise === 'undefined') {\n$3Dmolpromise = null;\n  $3Dmolpromise = loadScriptAsync('https://3dmol.csb.pitt.edu/build/3Dmol.js');\n}\n\nvar viewer_15833321734716861 = null;\nvar warn = document.getElementById(\"3dmolwarning_15833321734716861\");\nif(warn) {\n    warn.parentNode.removeChild(warn);\n}\n$3Dmolpromise.then(function() {\nviewer_15833321734716861 = $3Dmol.createViewer($(\"#3dmolviewer_15833321734716861\"),{backgroundColor:\"white\"});\n\tviewer_15833321734716861.addModel(\"@<TRIPOS>MOLECULE\\nRES\\n11 11 1 0 1\\nSMALL\\nNO_CHARGES\\n@<TRIPOS>CRYSIN\\n    9.6344     9.2789     5.0223    90.0000    90.0000    90.0000  1  1\\n@<TRIPOS>ATOM\\n       1 C            0.8158    -1.2193     0.0011 C             1 RES     \\n       2 S            1.4241     0.3818     0.0032 S             1 RES     \\n       3 C           -0.1589     1.0378     0.0045 C             1 RES     \\n       4 C           -1.1191     0.0551     0.0011 C             1 RES     \\n       5 N           -2.4386     0.3045    -0.0000 N             1 RES     \\n       6 C           -0.5628    -1.2496    -0.0005 C             1 RES     \\n       7 H            1.4969    -2.0588     0.0010 H             1 RES     \\n       8 H           -0.2984     2.1090     0.0071 H             1 RES     \\n       9 H           -2.8204     1.2451    -0.0039 H             1 RES     \\n      10 H           -3.1376    -0.4312    -0.0153 H             1 RES     \\n      11 H           -1.1319    -2.1700    -0.0020 H             1 RES     \\n@<TRIPOS>BOND\\n       1        9        5 1\\n       2        1        7 1\\n       3        3        4 1\\n       4        1        2 1\\n       5        2        3 1\\n       6        3        8 1\\n       7        1        6 1\\n       8        4        6 1\\n       9       10        5 1\\n      10       11        6 1\\n      11        4        5 1\\n@<TRIPOS>SUBSTRUCTURE\\n       1 RES             1 RESIDUE    0 **** ROOT      0\\n\",\"mol2\");\n\tviewer_15833321734716861.setStyle({\"stick\": {\"radius\": 0.2, \"color\": \"grey\"}, \"sphere\": {\"scale\": 0.3, \"colorscheme\": {}}});\n\tviewer_15833321734716861.zoomTo();\nviewer_15833321734716861.render();\n});\n</script>",
      "text/html": [
       "<div id=\"3dmolviewer_15833321734716861\"  style=\"position: relative; width: 640px; height: 480px\">\n",
       "        <p id=\"3dmolwarning_15833321734716861\" style=\"background-color:#ffcccc;color:black\">You appear to be running in JupyterLab (or JavaScript failed to load for some other reason).  You need to install the 3dmol extension: <br>\n",
       "        <tt>jupyter labextension install jupyterlab_3dmol</tt></p>\n",
       "        </div>\n",
       "<script>\n",
       "\n",
       "var loadScriptAsync = function(uri){\n",
       "  return new Promise((resolve, reject) => {\n",
       "    var tag = document.createElement('script');\n",
       "    tag.src = uri;\n",
       "    tag.async = true;\n",
       "    tag.onload = () => {\n",
       "      resolve();\n",
       "    };\n",
       "  var firstScriptTag = document.getElementsByTagName('script')[0];\n",
       "  firstScriptTag.parentNode.insertBefore(tag, firstScriptTag);\n",
       "});\n",
       "};\n",
       "\n",
       "if(typeof $3Dmolpromise === 'undefined') {\n",
       "$3Dmolpromise = null;\n",
       "  $3Dmolpromise = loadScriptAsync('https://3dmol.csb.pitt.edu/build/3Dmol.js');\n",
       "}\n",
       "\n",
       "var viewer_15833321734716861 = null;\n",
       "var warn = document.getElementById(\"3dmolwarning_15833321734716861\");\n",
       "if(warn) {\n",
       "    warn.parentNode.removeChild(warn);\n",
       "}\n",
       "$3Dmolpromise.then(function() {\n",
       "viewer_15833321734716861 = $3Dmol.createViewer($(\"#3dmolviewer_15833321734716861\"),{backgroundColor:\"white\"});\n",
       "\tviewer_15833321734716861.addModel(\"@<TRIPOS>MOLECULE\\nRES\\n11 11 1 0 1\\nSMALL\\nNO_CHARGES\\n@<TRIPOS>CRYSIN\\n    9.6344     9.2789     5.0223    90.0000    90.0000    90.0000  1  1\\n@<TRIPOS>ATOM\\n       1 C            0.8158    -1.2193     0.0011 C             1 RES     \\n       2 S            1.4241     0.3818     0.0032 S             1 RES     \\n       3 C           -0.1589     1.0378     0.0045 C             1 RES     \\n       4 C           -1.1191     0.0551     0.0011 C             1 RES     \\n       5 N           -2.4386     0.3045    -0.0000 N             1 RES     \\n       6 C           -0.5628    -1.2496    -0.0005 C             1 RES     \\n       7 H            1.4969    -2.0588     0.0010 H             1 RES     \\n       8 H           -0.2984     2.1090     0.0071 H             1 RES     \\n       9 H           -2.8204     1.2451    -0.0039 H             1 RES     \\n      10 H           -3.1376    -0.4312    -0.0153 H             1 RES     \\n      11 H           -1.1319    -2.1700    -0.0020 H             1 RES     \\n@<TRIPOS>BOND\\n       1        9        5 1\\n       2        1        7 1\\n       3        3        4 1\\n       4        1        2 1\\n       5        2        3 1\\n       6        3        8 1\\n       7        1        6 1\\n       8        4        6 1\\n       9       10        5 1\\n      10       11        6 1\\n      11        4        5 1\\n@<TRIPOS>SUBSTRUCTURE\\n       1 RES             1 RESIDUE    0 **** ROOT      0\\n\",\"mol2\");\n",
       "\tviewer_15833321734716861.setStyle({\"stick\": {\"radius\": 0.2, \"color\": \"grey\"}, \"sphere\": {\"scale\": 0.3, \"colorscheme\": {}}});\n",
       "\tviewer_15833321734716861.zoomTo();\n",
       "viewer_15833321734716861.render();\n",
       "});\n",
       "</script>"
      ]
     },
     "metadata": {},
     "output_type": "display_data"
    }
   ],
   "source": [
    "p3ht1 = 'c1sccc1(N)'\n",
    "p3ht2 = 'c1scc(N)c1'\n",
    "viz(p3ht1, deep=False)\n",
    "viz(p3ht2, deep=False)"
   ]
  },
  {
   "cell_type": "code",
   "execution_count": 4,
   "metadata": {},
   "outputs": [
    {
     "name": "stdout",
     "output_type": "stream",
     "text": [
      "csccc5CCCC\n"
     ]
    }
   ],
   "source": [
    "p3ht = 'c1sccc1CCCC'\n",
    "p3ht_d = convert_smiles(smiles=p3ht)\n",
    "print(p3ht_d)"
   ]
  },
  {
   "cell_type": "code",
   "execution_count": null,
   "metadata": {},
   "outputs": [],
   "source": [
    "zz"
   ]
  },
  {
   "cell_type": "code",
   "execution_count": null,
   "metadata": {},
   "outputs": [],
   "source": []
  },
  {
   "cell_type": "code",
   "execution_count": null,
   "metadata": {},
   "outputs": [],
   "source": []
  }
 ],
 "metadata": {
  "kernelspec": {
   "display_name": "Python 3",
   "language": "python",
   "name": "python3"
  },
  "language_info": {
   "codemirror_mode": {
    "name": "ipython",
    "version": 3
   },
   "file_extension": ".py",
   "mimetype": "text/x-python",
   "name": "python",
   "nbconvert_exporter": "python",
   "pygments_lexer": "ipython3",
   "version": "3.7.7"
  }
 },
 "nbformat": 4,
 "nbformat_minor": 2
}
